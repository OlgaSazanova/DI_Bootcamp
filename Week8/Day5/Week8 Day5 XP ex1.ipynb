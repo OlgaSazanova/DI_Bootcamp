{
 "cells": [
  {
   "cell_type": "code",
   "execution_count": 7,
   "id": "fcf7169d-5323-4d2d-ba33-3620936ecaf1",
   "metadata": {},
   "outputs": [],
   "source": [
    "import openpyxl"
   ]
  },
  {
   "cell_type": "code",
   "execution_count": 9,
   "id": "f605f3de-70bf-4e0e-bf88-bee808766bca",
   "metadata": {},
   "outputs": [],
   "source": [
    "from openpyxl import Workbook\n",
    "from openpyxl.styles import Font"
   ]
  },
  {
   "cell_type": "code",
   "execution_count": 11,
   "id": "5fcc0c8e-c1a0-435c-9bec-c3e73e40c0e1",
   "metadata": {},
   "outputs": [],
   "source": [
    "wb = openpyxl.Workbook()"
   ]
  },
  {
   "cell_type": "code",
   "execution_count": 13,
   "id": "4d4f3d85-4ed2-4ffe-b9f5-582f2c630206",
   "metadata": {},
   "outputs": [],
   "source": [
    "ws = wb.active"
   ]
  },
  {
   "cell_type": "code",
   "execution_count": 19,
   "id": "3354ee53-ca23-4532-b072-34353b3fb1ff",
   "metadata": {},
   "outputs": [],
   "source": [
    "ws.cell(row=1, column=1).value = \"First number ==> \""
   ]
  },
  {
   "cell_type": "code",
   "execution_count": 21,
   "id": "70fb0147-bb54-47bd-a467-435f00f6a441",
   "metadata": {},
   "outputs": [],
   "source": [
    "ws.cell(row=2, column=1).value = \"Second number ==> \""
   ]
  },
  {
   "cell_type": "code",
   "execution_count": 23,
   "id": "62940e58-2904-4c1d-9c30-1f5d6a120f28",
   "metadata": {},
   "outputs": [],
   "source": [
    "ws.cell(row=1, column=2).value = 2"
   ]
  },
  {
   "cell_type": "code",
   "execution_count": 25,
   "id": "28d8d5d6-a422-4d73-a47f-f151e7a5cd43",
   "metadata": {},
   "outputs": [],
   "source": [
    "ws.cell(row=2, column=2).value = 8"
   ]
  },
  {
   "cell_type": "code",
   "execution_count": 27,
   "id": "7a07f7b6-eb01-4233-b4ca-2cad7625b638",
   "metadata": {},
   "outputs": [],
   "source": [
    "ws.cell(row=3, column=2).value = ws.cell(row=1, column=2).value * ws.cell(row=2, column=2).value"
   ]
  },
  {
   "cell_type": "code",
   "execution_count": 31,
   "id": "1e04f288-265e-406c-ac3b-0d6d1502b7d3",
   "metadata": {},
   "outputs": [],
   "source": [
    "wb.save('calcalator.xlsx')"
   ]
  },
  {
   "cell_type": "code",
   "execution_count": 33,
   "id": "cb14f283-ae25-4345-81a9-c7e9889ffc38",
   "metadata": {},
   "outputs": [],
   "source": [
    "wb.close()"
   ]
  },
  {
   "cell_type": "code",
   "execution_count": null,
   "id": "38afbd05-73c2-4854-8ba1-751cccee7868",
   "metadata": {},
   "outputs": [],
   "source": []
  }
 ],
 "metadata": {
  "kernelspec": {
   "display_name": "Python 3 (ipykernel)",
   "language": "python",
   "name": "python3"
  },
  "language_info": {
   "codemirror_mode": {
    "name": "ipython",
    "version": 3
   },
   "file_extension": ".py",
   "mimetype": "text/x-python",
   "name": "python",
   "nbconvert_exporter": "python",
   "pygments_lexer": "ipython3",
   "version": "3.12.3"
  }
 },
 "nbformat": 4,
 "nbformat_minor": 5
}
