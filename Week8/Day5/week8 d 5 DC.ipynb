{
 "cells": [
  {
   "cell_type": "code",
   "execution_count": 1,
   "id": "d4c9cab1-30f0-4567-9b45-eb6c4d741ce8",
   "metadata": {},
   "outputs": [],
   "source": [
    "from openpyxl import Workbook\n",
    "from openpyxl.styles import Font, PatternFill"
   ]
  },
  {
   "cell_type": "code",
   "execution_count": 2,
   "id": "63672d29-876e-45de-afb5-47da5042d158",
   "metadata": {},
   "outputs": [],
   "source": [
    "# Create a new Excel workbook and add a sheet named \"Grades\"\n",
    "workbook = Workbook()\n",
    "sheet = workbook.active\n",
    "sheet.title = \"Grades\""
   ]
  },
  {
   "cell_type": "code",
   "execution_count": 3,
   "id": "481f0018-4468-4ff0-855f-ba7e9be3863f",
   "metadata": {},
   "outputs": [],
   "source": [
    "# Data to populate the sheet\n",
    "students = [\"Joe\", \"Bill\", \"Tim\", \"Sally\", \"Jane\"]\n",
    "grades = {\n",
    "    \"Math\": [85, 90, 78, 92, 88],\n",
    "    \"Science\": [88, 92, 79, 95, 85],\n",
    "    \"English\": [90, 85, 83, 88, 87],\n",
    "    \"Gym\": [95, 80, 85, 90, 93]\n",
    "}"
   ]
  },
  {
   "cell_type": "code",
   "execution_count": 4,
   "id": "25b54136-ee26-4f26-8328-43d9f45c6a15",
   "metadata": {},
   "outputs": [],
   "source": [
    "\n",
    "# Add headers\n",
    "headers = [\"Student\", \"Math\", \"Science\", \"English\", \"Gym\"]\n",
    "for col_num, header in enumerate(headers, 1):\n",
    "    cell = sheet.cell(row=1, column=col_num)\n",
    "    cell.value = header\n",
    "    # Apply bold and colored formatting to the header row\n",
    "    cell.font = Font(bold=True)\n",
    "    cell.fill = PatternFill(start_color=\"FFFF00\", end_color=\"FFFF00\", fill_type=\"solid\")\n"
   ]
  },
  {
   "cell_type": "code",
   "execution_count": 5,
   "id": "56e439c4-d831-42e8-828e-309877e09d07",
   "metadata": {},
   "outputs": [],
   "source": [
    "# Populate the sheet with student names and grades\n",
    "for row_num, student in enumerate(students, 2):\n",
    "    sheet.cell(row=row_num, column=1).value = student  # Student names\n",
    "    for col_num, subject in enumerate(grades, 2):\n",
    "        sheet.cell(row=row_num, column=col_num).value = grades[subject][row_num-2]  # Student grades"
   ]
  },
  {
   "cell_type": "code",
   "execution_count": 6,
   "id": "bf917b27-7695-492c-9474-d1d25dabfb97",
   "metadata": {},
   "outputs": [],
   "source": [
    "\n",
    "\n",
    "# Add formulas to calculate the average grade for each subject\n",
    "for col_num in range(2, 6):  # Columns B to E (subjects)\n",
    "    sheet.cell(row=len(students) + 2, column=col_num).value = f\"=AVERAGE({chr(64 + col_num)}2:{chr(64 + col_num)}{len(students)+1})\"\n",
    "\n",
    "# Save the workbook\n",
    "workbook.save(\"grades.xlsx\")\n"
   ]
  }
 ],
 "metadata": {
  "kernelspec": {
   "display_name": "Python 3 (ipykernel)",
   "language": "python",
   "name": "python3"
  },
  "language_info": {
   "codemirror_mode": {
    "name": "ipython",
    "version": 3
   },
   "file_extension": ".py",
   "mimetype": "text/x-python",
   "name": "python",
   "nbconvert_exporter": "python",
   "pygments_lexer": "ipython3",
   "version": "3.12.3"
  }
 },
 "nbformat": 4,
 "nbformat_minor": 5
}
