{
 "cells": [
  {
   "cell_type": "markdown",
   "id": "3ee986d2",
   "metadata": {},
   "source": [
    "Create a 1D NumPy array containing numbers from 0 to 9."
   ]
  },
  {
   "cell_type": "code",
   "execution_count": 3,
   "id": "f472f35a",
   "metadata": {},
   "outputs": [],
   "source": [
    "import numpy as np"
   ]
  },
  {
   "cell_type": "code",
   "execution_count": 4,
   "id": "c7057de8",
   "metadata": {},
   "outputs": [
    {
     "data": {
      "text/plain": [
       "array([0, 1, 2, 3, 4, 5, 6, 7, 8, 9])"
      ]
     },
     "execution_count": 4,
     "metadata": {},
     "output_type": "execute_result"
    }
   ],
   "source": [
    "arr1= np.arange(0, 10, dtype=int)\n",
    "arr1"
   ]
  },
  {
   "cell_type": "markdown",
   "id": "e719bfc7",
   "metadata": {},
   "source": [
    "Convert a list [3.14, 2.17, 0, 1, 2] into a NumPy array and convert its data type to integer."
   ]
  },
  {
   "cell_type": "code",
   "execution_count": 6,
   "id": "6525bc04",
   "metadata": {},
   "outputs": [
    {
     "data": {
      "text/plain": [
       "array([3, 2, 0, 1, 2])"
      ]
     },
     "execution_count": 6,
     "metadata": {},
     "output_type": "execute_result"
    }
   ],
   "source": [
    "arr2 =np.array([3.14, 2.17, 0, 1, 2])\n",
    "arr2 = arr2.astype(int)\n",
    "arr2"
   ]
  },
  {
   "cell_type": "markdown",
   "id": "62d2c8a7",
   "metadata": {},
   "source": [
    "Create a 3x3 NumPy array with values ranging from 1 to 9."
   ]
  },
  {
   "cell_type": "code",
   "execution_count": 8,
   "id": "13d5ac7e",
   "metadata": {},
   "outputs": [
    {
     "data": {
      "text/plain": [
       "array([[1, 2, 3],\n",
       "       [4, 5, 6],\n",
       "       [7, 8, 9]])"
      ]
     },
     "execution_count": 8,
     "metadata": {},
     "output_type": "execute_result"
    }
   ],
   "source": [
    "arr3 = np.arange(1,10).reshape(3,3)\n",
    "arr3 "
   ]
  },
  {
   "cell_type": "markdown",
   "id": "69df1b58",
   "metadata": {},
   "source": [
    "Create a 2D NumPy array of shape (4, 5) filled with random numbers."
   ]
  },
  {
   "cell_type": "code",
   "execution_count": 11,
   "id": "ed3a28c1",
   "metadata": {},
   "outputs": [
    {
     "data": {
      "text/plain": [
       "array([[0.48, 0.15, 0.96, 0.71, 0.25],\n",
       "       [0.48, 0.53, 0.38, 0.23, 0.5 ],\n",
       "       [0.17, 0.55, 0.51, 0.28, 0.34],\n",
       "       [0.08, 0.82, 0.2 , 0.86, 0.44]])"
      ]
     },
     "execution_count": 11,
     "metadata": {},
     "output_type": "execute_result"
    }
   ],
   "source": [
    "arr4 = np.random.rand(4, 5)\n",
    "arr4 = np.round(arr4, 2)\n",
    "arr4"
   ]
  },
  {
   "cell_type": "markdown",
   "id": "719aec19",
   "metadata": {},
   "source": [
    "Select the second row from a given 2D NumPy array."
   ]
  },
  {
   "cell_type": "code",
   "execution_count": 13,
   "id": "74e64392",
   "metadata": {},
   "outputs": [
    {
     "data": {
      "text/plain": [
       "array([0.48, 0.53, 0.38, 0.23, 0.5 ])"
      ]
     },
     "execution_count": 13,
     "metadata": {},
     "output_type": "execute_result"
    }
   ],
   "source": [
    "second_row = arr4[1]\n",
    "second_row"
   ]
  },
  {
   "cell_type": "markdown",
   "id": "b1b8e960",
   "metadata": {},
   "source": [
    "Reverse the order of elements in a given 1D NumPy array (first element becomes last)."
   ]
  },
  {
   "cell_type": "code",
   "execution_count": 17,
   "id": "cfe6fc3a",
   "metadata": {},
   "outputs": [
    {
     "data": {
      "text/plain": [
       "array([9, 8, 7, 6, 5, 4, 3, 2, 1, 0])"
      ]
     },
     "execution_count": 17,
     "metadata": {},
     "output_type": "execute_result"
    }
   ],
   "source": [
    "arr1[::-1]"
   ]
  },
  {
   "cell_type": "markdown",
   "id": "a52999c3",
   "metadata": {},
   "source": [
    "Create a 4x4 identity matrix using NumPy."
   ]
  },
  {
   "cell_type": "code",
   "execution_count": 18,
   "id": "b828065c",
   "metadata": {},
   "outputs": [
    {
     "data": {
      "text/plain": [
       "array([[1., 0., 0., 0.],\n",
       "       [0., 1., 0., 0.],\n",
       "       [0., 0., 1., 0.],\n",
       "       [0., 0., 0., 1.]])"
      ]
     },
     "execution_count": 18,
     "metadata": {},
     "output_type": "execute_result"
    }
   ],
   "source": [
    "arr5 = np.eye(4)\n",
    "arr5"
   ]
  },
  {
   "cell_type": "markdown",
   "id": "b77506c1",
   "metadata": {},
   "source": [
    "Find the sum and average of a given 1D array."
   ]
  },
  {
   "cell_type": "code",
   "execution_count": 19,
   "id": "5eeec2d0",
   "metadata": {},
   "outputs": [
    {
     "data": {
      "text/plain": [
       "45"
      ]
     },
     "execution_count": 19,
     "metadata": {},
     "output_type": "execute_result"
    }
   ],
   "source": [
    "np.sum(arr1)"
   ]
  },
  {
   "cell_type": "code",
   "execution_count": 20,
   "id": "0fa1941d",
   "metadata": {},
   "outputs": [
    {
     "data": {
      "text/plain": [
       "4.5"
      ]
     },
     "execution_count": 20,
     "metadata": {},
     "output_type": "execute_result"
    }
   ],
   "source": [
    "np.mean(arr1)"
   ]
  },
  {
   "cell_type": "markdown",
   "id": "f966b320",
   "metadata": {},
   "source": [
    "Create a NumPy array with elements from 1 to 20; then reshape it into a 4x5 matrix."
   ]
  },
  {
   "cell_type": "code",
   "execution_count": 23,
   "id": "b709ea10",
   "metadata": {},
   "outputs": [
    {
     "data": {
      "text/plain": [
       "array([ 1,  2,  3,  4,  5,  6,  7,  8,  9, 10, 11, 12, 13, 14, 15, 16, 17,\n",
       "       18, 19, 20])"
      ]
     },
     "execution_count": 23,
     "metadata": {},
     "output_type": "execute_result"
    }
   ],
   "source": [
    "arr6 = np.arange(1, 21, dtype=int)\n",
    "arr6"
   ]
  },
  {
   "cell_type": "code",
   "execution_count": 26,
   "id": "f1cb9d96",
   "metadata": {},
   "outputs": [
    {
     "data": {
      "text/plain": [
       "array([[ 1,  2,  3,  4,  5],\n",
       "       [ 6,  7,  8,  9, 10],\n",
       "       [11, 12, 13, 14, 15],\n",
       "       [16, 17, 18, 19, 20]])"
      ]
     },
     "execution_count": 26,
     "metadata": {},
     "output_type": "execute_result"
    }
   ],
   "source": [
    "arr7 = arr6.reshape(4, 5)\n",
    "arr7"
   ]
  },
  {
   "cell_type": "markdown",
   "id": "360646a0",
   "metadata": {},
   "source": [
    "Extract all odd numbers from a given NumPy array."
   ]
  },
  {
   "cell_type": "code",
   "execution_count": 27,
   "id": "415ab144",
   "metadata": {},
   "outputs": [
    {
     "data": {
      "text/plain": [
       "array([ 1,  3,  5,  7,  9, 11, 13, 15, 17, 19])"
      ]
     },
     "execution_count": 27,
     "metadata": {},
     "output_type": "execute_result"
    }
   ],
   "source": [
    "arr8 = arr7[arr7 % 2 != 0]\n",
    "arr8"
   ]
  },
  {
   "cell_type": "code",
   "execution_count": null,
   "id": "c717783d",
   "metadata": {},
   "outputs": [],
   "source": []
  }
 ],
 "metadata": {
  "kernelspec": {
   "display_name": "Python 3 (ipykernel)",
   "language": "python",
   "name": "python3"
  },
  "language_info": {
   "codemirror_mode": {
    "name": "ipython",
    "version": 3
   },
   "file_extension": ".py",
   "mimetype": "text/x-python",
   "name": "python",
   "nbconvert_exporter": "python",
   "pygments_lexer": "ipython3",
   "version": "3.9.12"
  }
 },
 "nbformat": 4,
 "nbformat_minor": 5
}
