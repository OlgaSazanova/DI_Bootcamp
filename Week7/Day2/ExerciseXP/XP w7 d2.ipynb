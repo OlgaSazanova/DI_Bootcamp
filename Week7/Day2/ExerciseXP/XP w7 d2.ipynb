{
 "cells": [
  {
   "cell_type": "markdown",
   "id": "4c029435",
   "metadata": {},
   "source": [
    "Create a 3x3 matrix and perform the following operations:\n",
    "\n",
    "Calculate the determinant.\n",
    "Find the inverse of the matrix."
   ]
  },
  {
   "cell_type": "code",
   "execution_count": 2,
   "id": "499c02fb",
   "metadata": {},
   "outputs": [],
   "source": [
    "import numpy as np"
   ]
  },
  {
   "cell_type": "code",
   "execution_count": 3,
   "id": "d3f00c55",
   "metadata": {},
   "outputs": [
    {
     "data": {
      "text/plain": [
       "array([[1, 2, 3],\n",
       "       [4, 5, 6],\n",
       "       [7, 8, 9]])"
      ]
     },
     "execution_count": 3,
     "metadata": {},
     "output_type": "execute_result"
    }
   ],
   "source": [
    "arr1 = np.array([[1, 2, 3], [4, 5, 6], [7, 8, 9]])\n",
    "arr1"
   ]
  },
  {
   "cell_type": "code",
   "execution_count": 4,
   "id": "57b7760c",
   "metadata": {},
   "outputs": [
    {
     "data": {
      "text/plain": [
       "6.66133814775094e-16"
      ]
     },
     "execution_count": 4,
     "metadata": {},
     "output_type": "execute_result"
    }
   ],
   "source": [
    "np.linalg.det(arr1)"
   ]
  },
  {
   "cell_type": "code",
   "execution_count": 5,
   "id": "711c00d6",
   "metadata": {},
   "outputs": [
    {
     "data": {
      "text/plain": [
       "array([[-4.50359963e+15,  9.00719925e+15, -4.50359963e+15],\n",
       "       [ 9.00719925e+15, -1.80143985e+16,  9.00719925e+15],\n",
       "       [-4.50359963e+15,  9.00719925e+15, -4.50359963e+15]])"
      ]
     },
     "execution_count": 5,
     "metadata": {},
     "output_type": "execute_result"
    }
   ],
   "source": [
    "np.linalg.inv(arr1)"
   ]
  },
  {
   "cell_type": "markdown",
   "id": "d7119a5b",
   "metadata": {},
   "source": [
    "Using NumPy, generate an array of 50 random numbers and compute:\n",
    "\n",
    "The mean and median.\n",
    "The standard deviation."
   ]
  },
  {
   "cell_type": "code",
   "execution_count": 7,
   "id": "2d97af8a",
   "metadata": {},
   "outputs": [
    {
     "data": {
      "text/plain": [
       "array([0.90247353, 0.48939759, 0.25323723, 0.50730789, 0.90844674,\n",
       "       0.93535561, 0.10428106, 0.35413292, 0.76438739, 0.90164393,\n",
       "       0.48735498, 0.75123058, 0.48373492, 0.63383502, 0.67539139,\n",
       "       0.0370812 , 0.91841694, 0.90529331, 0.59468627, 0.44357255,\n",
       "       0.63360745, 0.82470519, 0.79012063, 0.88956376, 0.39496576,\n",
       "       0.46934752, 0.35150366, 0.52867367, 0.84297156, 0.34413232,\n",
       "       0.83292489, 0.71588572, 0.08731438, 0.4763825 , 0.02401737,\n",
       "       0.18373703, 0.45614868, 0.79747477, 0.95266248, 0.60155511,\n",
       "       0.42534322, 0.93468387, 0.22238657, 0.09246757, 0.57002444,\n",
       "       0.50623105, 0.58452215, 0.71136637, 0.00998226, 0.34968444])"
      ]
     },
     "execution_count": 7,
     "metadata": {},
     "output_type": "execute_result"
    }
   ],
   "source": [
    "arr2 = np.random.rand(50)\n",
    "arr2"
   ]
  },
  {
   "cell_type": "code",
   "execution_count": 8,
   "id": "8e0dd13b",
   "metadata": {},
   "outputs": [
    {
     "data": {
      "text/plain": [
       "0.5531129488392693"
      ]
     },
     "execution_count": 8,
     "metadata": {},
     "output_type": "execute_result"
    }
   ],
   "source": [
    "np.mean(arr2)"
   ]
  },
  {
   "cell_type": "code",
   "execution_count": 9,
   "id": "8486e6fb",
   "metadata": {},
   "outputs": [
    {
     "data": {
      "text/plain": [
       "0.5493490561983738"
      ]
     },
     "execution_count": 9,
     "metadata": {},
     "output_type": "execute_result"
    }
   ],
   "source": [
    "np.median(arr2)"
   ]
  },
  {
   "cell_type": "code",
   "execution_count": 10,
   "id": "adaf5936",
   "metadata": {},
   "outputs": [
    {
     "data": {
      "text/plain": [
       "0.2749217590341633"
      ]
     },
     "execution_count": 10,
     "metadata": {},
     "output_type": "execute_result"
    }
   ],
   "source": [
    "np.std(arr2)"
   ]
  },
  {
   "cell_type": "markdown",
   "id": "34f1a1c5",
   "metadata": {},
   "source": [
    "Create a NumPy array of dates for the month of January 2023. Convert these dates to another format (e.g., YYYY/MM/DD)."
   ]
  },
  {
   "cell_type": "code",
   "execution_count": 12,
   "id": "8514ebf7",
   "metadata": {},
   "outputs": [
    {
     "name": "stdout",
     "output_type": "stream",
     "text": [
      "January 2023 Dates:\n",
      " ['2023-01-01' '2023-01-02' '2023-01-03' '2023-01-04' '2023-01-05'\n",
      " '2023-01-06' '2023-01-07' '2023-01-08' '2023-01-09' '2023-01-10'\n",
      " '2023-01-11' '2023-01-12' '2023-01-13' '2023-01-14' '2023-01-15'\n",
      " '2023-01-16' '2023-01-17' '2023-01-18' '2023-01-19' '2023-01-20'\n",
      " '2023-01-21' '2023-01-22' '2023-01-23' '2023-01-24' '2023-01-25'\n",
      " '2023-01-26' '2023-01-27' '2023-01-28' '2023-01-29' '2023-01-30'\n",
      " '2023-01-31']\n"
     ]
    }
   ],
   "source": [
    "dates = np.arange('2023-01', '2023-02', dtype='datetime64[D]')\n",
    "print(\"January 2023 Dates:\\n\", dates)"
   ]
  },
  {
   "cell_type": "code",
   "execution_count": 16,
   "id": "177dde1a",
   "metadata": {},
   "outputs": [
    {
     "name": "stdout",
     "output_type": "stream",
     "text": [
      "Formatted Dates:\n",
      " ['2023/01/01', '2023/01/02', '2023/01/03', '2023/01/04', '2023/01/05', '2023/01/06', '2023/01/07', '2023/01/08', '2023/01/09', '2023/01/10', '2023/01/11', '2023/01/12', '2023/01/13', '2023/01/14', '2023/01/15', '2023/01/16', '2023/01/17', '2023/01/18', '2023/01/19', '2023/01/20', '2023/01/21', '2023/01/22', '2023/01/23', '2023/01/24', '2023/01/25', '2023/01/26', '2023/01/27', '2023/01/28', '2023/01/29', '2023/01/30', '2023/01/31']\n"
     ]
    }
   ],
   "source": [
    "import datetime\n",
    "formatted_dates = [date.astype(datetime.datetime).strftime('%Y/%m/%d') for date in dates]\n",
    "print(\"Formatted Dates:\\n\", formatted_dates)"
   ]
  },
  {
   "cell_type": "markdown",
   "id": "4affe347",
   "metadata": {},
   "source": [
    "Create a DataFrame with random numbers and perform:\n",
    "\n",
    "Conditional selection of data.\n",
    "Aggregation functions like sum and average."
   ]
  },
  {
   "cell_type": "code",
   "execution_count": 19,
   "id": "60cd7cf5",
   "metadata": {},
   "outputs": [
    {
     "data": {
      "text/html": [
       "<div>\n",
       "<style scoped>\n",
       "    .dataframe tbody tr th:only-of-type {\n",
       "        vertical-align: middle;\n",
       "    }\n",
       "\n",
       "    .dataframe tbody tr th {\n",
       "        vertical-align: top;\n",
       "    }\n",
       "\n",
       "    .dataframe thead th {\n",
       "        text-align: right;\n",
       "    }\n",
       "</style>\n",
       "<table border=\"1\" class=\"dataframe\">\n",
       "  <thead>\n",
       "    <tr style=\"text-align: right;\">\n",
       "      <th></th>\n",
       "      <th>Red</th>\n",
       "      <th>Yellow</th>\n",
       "      <th>Green</th>\n",
       "      <th>Blue</th>\n",
       "      <th>Black</th>\n",
       "      <th>White</th>\n",
       "    </tr>\n",
       "  </thead>\n",
       "  <tbody>\n",
       "    <tr>\n",
       "      <th>0</th>\n",
       "      <td>0.095421</td>\n",
       "      <td>0.054259</td>\n",
       "      <td>0.658349</td>\n",
       "      <td>0.398914</td>\n",
       "      <td>0.076171</td>\n",
       "      <td>0.621201</td>\n",
       "    </tr>\n",
       "    <tr>\n",
       "      <th>1</th>\n",
       "      <td>0.448351</td>\n",
       "      <td>0.945606</td>\n",
       "      <td>0.303648</td>\n",
       "      <td>0.358473</td>\n",
       "      <td>0.087117</td>\n",
       "      <td>0.076856</td>\n",
       "    </tr>\n",
       "    <tr>\n",
       "      <th>2</th>\n",
       "      <td>0.840257</td>\n",
       "      <td>0.070001</td>\n",
       "      <td>0.579669</td>\n",
       "      <td>0.258219</td>\n",
       "      <td>0.875381</td>\n",
       "      <td>0.131179</td>\n",
       "    </tr>\n",
       "    <tr>\n",
       "      <th>3</th>\n",
       "      <td>0.795166</td>\n",
       "      <td>0.066521</td>\n",
       "      <td>0.958779</td>\n",
       "      <td>0.613323</td>\n",
       "      <td>0.195179</td>\n",
       "      <td>0.511253</td>\n",
       "    </tr>\n",
       "  </tbody>\n",
       "</table>\n",
       "</div>"
      ],
      "text/plain": [
       "        Red    Yellow     Green      Blue     Black     White\n",
       "0  0.095421  0.054259  0.658349  0.398914  0.076171  0.621201\n",
       "1  0.448351  0.945606  0.303648  0.358473  0.087117  0.076856\n",
       "2  0.840257  0.070001  0.579669  0.258219  0.875381  0.131179\n",
       "3  0.795166  0.066521  0.958779  0.613323  0.195179  0.511253"
      ]
     },
     "execution_count": 19,
     "metadata": {},
     "output_type": "execute_result"
    }
   ],
   "source": [
    "import pandas as pd\n",
    "data_for_frame = np.random.rand(4,6)\n",
    "df = pd.DataFrame(data_for_frame, columns=['Red', 'Yellow', 'Green', 'Blue', 'Black', 'White'])\n",
    "df"
   ]
  },
  {
   "cell_type": "code",
   "execution_count": 21,
   "id": "58d099ca",
   "metadata": {},
   "outputs": [
    {
     "data": {
      "text/plain": [
       "2.1791956813196673"
      ]
     },
     "execution_count": 21,
     "metadata": {},
     "output_type": "execute_result"
    }
   ],
   "source": [
    "df['Red'].sum()"
   ]
  },
  {
   "cell_type": "code",
   "execution_count": 23,
   "id": "3da64a80",
   "metadata": {},
   "outputs": [
    {
     "data": {
      "text/plain": [
       "0.3084620235333472"
      ]
     },
     "execution_count": 23,
     "metadata": {},
     "output_type": "execute_result"
    }
   ],
   "source": [
    "df['Black'].mean()"
   ]
  },
  {
   "cell_type": "code",
   "execution_count": 27,
   "id": "4d8dcbcb",
   "metadata": {},
   "outputs": [
    {
     "data": {
      "text/html": [
       "<div>\n",
       "<style scoped>\n",
       "    .dataframe tbody tr th:only-of-type {\n",
       "        vertical-align: middle;\n",
       "    }\n",
       "\n",
       "    .dataframe tbody tr th {\n",
       "        vertical-align: top;\n",
       "    }\n",
       "\n",
       "    .dataframe thead th {\n",
       "        text-align: right;\n",
       "    }\n",
       "</style>\n",
       "<table border=\"1\" class=\"dataframe\">\n",
       "  <thead>\n",
       "    <tr style=\"text-align: right;\">\n",
       "      <th></th>\n",
       "      <th>Red</th>\n",
       "      <th>Yellow</th>\n",
       "      <th>Green</th>\n",
       "      <th>Blue</th>\n",
       "      <th>Black</th>\n",
       "      <th>White</th>\n",
       "    </tr>\n",
       "  </thead>\n",
       "  <tbody>\n",
       "    <tr>\n",
       "      <th>0</th>\n",
       "      <td>0.095421</td>\n",
       "      <td>0.054259</td>\n",
       "      <td>0.658349</td>\n",
       "      <td>0.398914</td>\n",
       "      <td>0.076171</td>\n",
       "      <td>0.621201</td>\n",
       "    </tr>\n",
       "    <tr>\n",
       "      <th>2</th>\n",
       "      <td>0.840257</td>\n",
       "      <td>0.070001</td>\n",
       "      <td>0.579669</td>\n",
       "      <td>0.258219</td>\n",
       "      <td>0.875381</td>\n",
       "      <td>0.131179</td>\n",
       "    </tr>\n",
       "    <tr>\n",
       "      <th>3</th>\n",
       "      <td>0.795166</td>\n",
       "      <td>0.066521</td>\n",
       "      <td>0.958779</td>\n",
       "      <td>0.613323</td>\n",
       "      <td>0.195179</td>\n",
       "      <td>0.511253</td>\n",
       "    </tr>\n",
       "  </tbody>\n",
       "</table>\n",
       "</div>"
      ],
      "text/plain": [
       "        Red    Yellow     Green      Blue     Black     White\n",
       "0  0.095421  0.054259  0.658349  0.398914  0.076171  0.621201\n",
       "2  0.840257  0.070001  0.579669  0.258219  0.875381  0.131179\n",
       "3  0.795166  0.066521  0.958779  0.613323  0.195179  0.511253"
      ]
     },
     "execution_count": 27,
     "metadata": {},
     "output_type": "execute_result"
    }
   ],
   "source": [
    "df[df['Green'] > 0.5]"
   ]
  },
  {
   "cell_type": "markdown",
   "id": "6ad62b1b",
   "metadata": {},
   "source": [
    "Explain how images are represented in NumPy arrays and demonstrate with a simple example (e.g., creating a 5x5 grayscale image)."
   ]
  },
  {
   "cell_type": "code",
   "execution_count": 28,
   "id": "0215973f",
   "metadata": {},
   "outputs": [
    {
     "name": "stdout",
     "output_type": "stream",
     "text": [
      "(182, 277, 3)\n",
      "[[ 47  47  47 ...  58  58  58]\n",
      " [ 46  46  46 ...  59  59  59]\n",
      " [ 46  46  47 ...  61  61  61]\n",
      " ...\n",
      " [114  82  76 ...  87  87  87]\n",
      " [ 53  60  98 ...  86  86  86]\n",
      " [ 91 119 147 ...  85  85  86]]\n"
     ]
    }
   ],
   "source": [
    "from PIL import Image\n",
    "import numpy as np\n",
    "image = Image.open('image.jpg', )\n",
    "arr = np.array(image)#(h,w,3)\n",
    "print(arr.shape)\n",
    "res = arr.mean(axis=2)\n",
    "res = res.round()\n",
    "res = res.astype(np.uint8)\n",
    "print(res)\n",
    "im = Image.fromarray(res)\n",
    "im.save('out.jpg')"
   ]
  },
  {
   "cell_type": "markdown",
   "id": "7c73b9f5",
   "metadata": {},
   "source": [
    "Images are represented in NumPy arrays as multidimensional arrays of pixel values. In a grayscale image, each pixel value represents the intensity of light, where 0 typically represents black and the maximum value (e.g., 255 for an 8-bit image) represents white. <br> I took as example how to convert RGB image to grayscale image"
   ]
  },
  {
   "cell_type": "markdown",
   "id": "40503bbf",
   "metadata": {},
   "source": [
    "Create a sample dataset to test the effectiveness of a new training program on employee productivity:"
   ]
  },
  {
   "cell_type": "code",
   "execution_count": 29,
   "id": "ae899e76",
   "metadata": {},
   "outputs": [
    {
     "data": {
      "text/plain": [
       "array([55.12262847, 42.26462659, 52.52591493, 63.91174727, 42.14120173,\n",
       "       34.31467259, 50.88306806, 47.72313533, 44.47186496, 47.00319838,\n",
       "       68.01535642, 48.53698108, 67.36100703, 38.90875184, 49.93876977,\n",
       "       60.2286286 , 42.00881916, 28.30645619, 42.93100337, 38.26130817,\n",
       "       63.28265596, 56.00669976, 50.67676366, 43.23416509, 56.85357637,\n",
       "       57.47043761, 38.76726855, 53.56858215, 36.96597909, 50.68085277])"
      ]
     },
     "execution_count": 29,
     "metadata": {},
     "output_type": "execute_result"
    }
   ],
   "source": [
    "# Productivity scores of employees before the training program\n",
    "productivity_before = np.random.normal(loc=50, scale=10, size=30)\n",
    "\n",
    "# Productivity scores of the same employees after the training program\n",
    "productivity_after = productivity_before + np.random.normal(loc=5, scale=3, size=30)\n",
    "productivity_before\n",
    "# Your task is to formulate a hypothesis regarding the training program's effectiveness \n",
    "# and test it using basic statistical functions in NumPy."
   ]
  },
  {
   "cell_type": "code",
   "execution_count": 30,
   "id": "6560d9f0",
   "metadata": {},
   "outputs": [
    {
     "data": {
      "text/plain": [
       "array([68.5310998 , 44.02323095, 65.97741357, 71.55411927, 47.16341518,\n",
       "       41.10673893, 54.97191217, 48.25282963, 51.82479419, 49.0981612 ,\n",
       "       69.24368147, 55.32494747, 72.52231455, 45.2140588 , 57.62302858,\n",
       "       65.08000248, 40.24494613, 34.64516227, 51.51670756, 45.43852107,\n",
       "       64.71159901, 60.58572753, 54.52347708, 45.34835295, 64.74036345,\n",
       "       65.08975253, 40.7252727 , 58.78552318, 37.85355832, 56.99021358])"
      ]
     },
     "execution_count": 30,
     "metadata": {},
     "output_type": "execute_result"
    }
   ],
   "source": [
    "productivity_after"
   ]
  },
  {
   "cell_type": "code",
   "execution_count": 31,
   "id": "ef7b0d65",
   "metadata": {},
   "outputs": [
    {
     "name": "stdout",
     "output_type": "stream",
     "text": [
      "T-statistic: -1.9409737683437145\n",
      "P-value: 0.05712618612351219\n",
      "The difference between the groups is not statistically significant.\n"
     ]
    }
   ],
   "source": [
    "from scipy import stats\n",
    "t_statistic, p_value = stats.ttest_ind(productivity_before, productivity_after)\n",
    "\n",
    "print(\"T-statistic:\", t_statistic)\n",
    "print(\"P-value:\", p_value)\n",
    "\n",
    "# Interpretation\n",
    "alpha = 0.05  # Significance level\n",
    "if p_value < alpha:\n",
    "    print(\"The difference between the groups is statistically significant.\")\n",
    "else:\n",
    "    print(\"The difference between the groups is not statistically significant.\")\n"
   ]
  },
  {
   "cell_type": "markdown",
   "id": "75061f9a",
   "metadata": {},
   "source": [
    "Create two arrays and perform element-wise comparison to find which elements are greater in the first array.\n",
    "<br>\n",
    "The expected output is a boolean array showing which elements in the first array are greater than the corresponding elements in the second array."
   ]
  },
  {
   "cell_type": "code",
   "execution_count": 32,
   "id": "01cce1a5",
   "metadata": {},
   "outputs": [
    {
     "data": {
      "text/plain": [
       "array([0.38281755, 0.1331817 , 0.02089751, 0.13819262, 0.68733076,\n",
       "       0.4578437 ])"
      ]
     },
     "execution_count": 32,
     "metadata": {},
     "output_type": "execute_result"
    }
   ],
   "source": [
    "arr4 = np.random.rand(6)\n",
    "arr5 = np.random.rand(6)\n",
    "\n",
    "arr4"
   ]
  },
  {
   "cell_type": "code",
   "execution_count": 33,
   "id": "2fb1ecad",
   "metadata": {},
   "outputs": [
    {
     "data": {
      "text/plain": [
       "array([0.28841184, 0.46574803, 0.5664862 , 0.36942025, 0.03835417,\n",
       "       0.32767203])"
      ]
     },
     "execution_count": 33,
     "metadata": {},
     "output_type": "execute_result"
    }
   ],
   "source": [
    "arr5"
   ]
  },
  {
   "cell_type": "code",
   "execution_count": 35,
   "id": "168a0bbd",
   "metadata": {},
   "outputs": [
    {
     "data": {
      "text/plain": [
       "array([ True, False, False, False,  True,  True])"
      ]
     },
     "execution_count": 35,
     "metadata": {},
     "output_type": "execute_result"
    }
   ],
   "source": [
    "comparison = arr4 > arr5\n",
    "comparison"
   ]
  },
  {
   "cell_type": "markdown",
   "id": "54f69555",
   "metadata": {},
   "source": [
    "Demonstrate how to convert a NumPy array to a Pandas DataFrame and vice versa."
   ]
  },
  {
   "cell_type": "code",
   "execution_count": 36,
   "id": "d3609648",
   "metadata": {},
   "outputs": [
    {
     "data": {
      "text/html": [
       "<div>\n",
       "<style scoped>\n",
       "    .dataframe tbody tr th:only-of-type {\n",
       "        vertical-align: middle;\n",
       "    }\n",
       "\n",
       "    .dataframe tbody tr th {\n",
       "        vertical-align: top;\n",
       "    }\n",
       "\n",
       "    .dataframe thead th {\n",
       "        text-align: right;\n",
       "    }\n",
       "</style>\n",
       "<table border=\"1\" class=\"dataframe\">\n",
       "  <thead>\n",
       "    <tr style=\"text-align: right;\">\n",
       "      <th></th>\n",
       "      <th>0</th>\n",
       "      <th>1</th>\n",
       "      <th>2</th>\n",
       "      <th>3</th>\n",
       "      <th>4</th>\n",
       "      <th>5</th>\n",
       "      <th>6</th>\n",
       "      <th>7</th>\n",
       "      <th>8</th>\n",
       "      <th>9</th>\n",
       "    </tr>\n",
       "  </thead>\n",
       "  <tbody>\n",
       "    <tr>\n",
       "      <th>0</th>\n",
       "      <td>0.197814</td>\n",
       "      <td>0.616789</td>\n",
       "      <td>0.348432</td>\n",
       "      <td>0.991687</td>\n",
       "      <td>0.021466</td>\n",
       "      <td>0.793105</td>\n",
       "      <td>0.658800</td>\n",
       "      <td>0.804262</td>\n",
       "      <td>0.092246</td>\n",
       "      <td>0.671074</td>\n",
       "    </tr>\n",
       "    <tr>\n",
       "      <th>1</th>\n",
       "      <td>0.446169</td>\n",
       "      <td>0.464625</td>\n",
       "      <td>0.515632</td>\n",
       "      <td>0.958193</td>\n",
       "      <td>0.345969</td>\n",
       "      <td>0.836938</td>\n",
       "      <td>0.474894</td>\n",
       "      <td>0.142189</td>\n",
       "      <td>0.532778</td>\n",
       "      <td>0.048662</td>\n",
       "    </tr>\n",
       "    <tr>\n",
       "      <th>2</th>\n",
       "      <td>0.475615</td>\n",
       "      <td>0.888726</td>\n",
       "      <td>0.666779</td>\n",
       "      <td>0.947359</td>\n",
       "      <td>0.068774</td>\n",
       "      <td>0.780429</td>\n",
       "      <td>0.404989</td>\n",
       "      <td>0.810716</td>\n",
       "      <td>0.749824</td>\n",
       "      <td>0.077890</td>\n",
       "    </tr>\n",
       "    <tr>\n",
       "      <th>3</th>\n",
       "      <td>0.975149</td>\n",
       "      <td>0.276314</td>\n",
       "      <td>0.229730</td>\n",
       "      <td>0.750190</td>\n",
       "      <td>0.843496</td>\n",
       "      <td>0.054712</td>\n",
       "      <td>0.581304</td>\n",
       "      <td>0.065851</td>\n",
       "      <td>0.780395</td>\n",
       "      <td>0.188774</td>\n",
       "    </tr>\n",
       "    <tr>\n",
       "      <th>4</th>\n",
       "      <td>0.403836</td>\n",
       "      <td>0.481703</td>\n",
       "      <td>0.063080</td>\n",
       "      <td>0.789978</td>\n",
       "      <td>0.443965</td>\n",
       "      <td>0.786628</td>\n",
       "      <td>0.509590</td>\n",
       "      <td>0.839897</td>\n",
       "      <td>0.648326</td>\n",
       "      <td>0.163704</td>\n",
       "    </tr>\n",
       "    <tr>\n",
       "      <th>5</th>\n",
       "      <td>0.418678</td>\n",
       "      <td>0.118823</td>\n",
       "      <td>0.457956</td>\n",
       "      <td>0.885381</td>\n",
       "      <td>0.500798</td>\n",
       "      <td>0.053704</td>\n",
       "      <td>0.993769</td>\n",
       "      <td>0.463895</td>\n",
       "      <td>0.050929</td>\n",
       "      <td>0.674320</td>\n",
       "    </tr>\n",
       "    <tr>\n",
       "      <th>6</th>\n",
       "      <td>0.110451</td>\n",
       "      <td>0.758564</td>\n",
       "      <td>0.623803</td>\n",
       "      <td>0.728034</td>\n",
       "      <td>0.402644</td>\n",
       "      <td>0.836185</td>\n",
       "      <td>0.105107</td>\n",
       "      <td>0.201138</td>\n",
       "      <td>0.277447</td>\n",
       "      <td>0.491271</td>\n",
       "    </tr>\n",
       "    <tr>\n",
       "      <th>7</th>\n",
       "      <td>0.464663</td>\n",
       "      <td>0.612986</td>\n",
       "      <td>0.990211</td>\n",
       "      <td>0.545036</td>\n",
       "      <td>0.158720</td>\n",
       "      <td>0.535313</td>\n",
       "      <td>0.375346</td>\n",
       "      <td>0.502261</td>\n",
       "      <td>0.581879</td>\n",
       "      <td>0.591749</td>\n",
       "    </tr>\n",
       "    <tr>\n",
       "      <th>8</th>\n",
       "      <td>0.799111</td>\n",
       "      <td>0.958277</td>\n",
       "      <td>0.358041</td>\n",
       "      <td>0.288019</td>\n",
       "      <td>0.012070</td>\n",
       "      <td>0.944512</td>\n",
       "      <td>0.398854</td>\n",
       "      <td>0.114418</td>\n",
       "      <td>0.488069</td>\n",
       "      <td>0.422915</td>\n",
       "    </tr>\n",
       "    <tr>\n",
       "      <th>9</th>\n",
       "      <td>0.035736</td>\n",
       "      <td>0.130525</td>\n",
       "      <td>0.057472</td>\n",
       "      <td>0.589493</td>\n",
       "      <td>0.148544</td>\n",
       "      <td>0.600000</td>\n",
       "      <td>0.929099</td>\n",
       "      <td>0.078587</td>\n",
       "      <td>0.640963</td>\n",
       "      <td>0.653261</td>\n",
       "    </tr>\n",
       "  </tbody>\n",
       "</table>\n",
       "</div>"
      ],
      "text/plain": [
       "          0         1         2         3         4         5         6  \\\n",
       "0  0.197814  0.616789  0.348432  0.991687  0.021466  0.793105  0.658800   \n",
       "1  0.446169  0.464625  0.515632  0.958193  0.345969  0.836938  0.474894   \n",
       "2  0.475615  0.888726  0.666779  0.947359  0.068774  0.780429  0.404989   \n",
       "3  0.975149  0.276314  0.229730  0.750190  0.843496  0.054712  0.581304   \n",
       "4  0.403836  0.481703  0.063080  0.789978  0.443965  0.786628  0.509590   \n",
       "5  0.418678  0.118823  0.457956  0.885381  0.500798  0.053704  0.993769   \n",
       "6  0.110451  0.758564  0.623803  0.728034  0.402644  0.836185  0.105107   \n",
       "7  0.464663  0.612986  0.990211  0.545036  0.158720  0.535313  0.375346   \n",
       "8  0.799111  0.958277  0.358041  0.288019  0.012070  0.944512  0.398854   \n",
       "9  0.035736  0.130525  0.057472  0.589493  0.148544  0.600000  0.929099   \n",
       "\n",
       "          7         8         9  \n",
       "0  0.804262  0.092246  0.671074  \n",
       "1  0.142189  0.532778  0.048662  \n",
       "2  0.810716  0.749824  0.077890  \n",
       "3  0.065851  0.780395  0.188774  \n",
       "4  0.839897  0.648326  0.163704  \n",
       "5  0.463895  0.050929  0.674320  \n",
       "6  0.201138  0.277447  0.491271  \n",
       "7  0.502261  0.581879  0.591749  \n",
       "8  0.114418  0.488069  0.422915  \n",
       "9  0.078587  0.640963  0.653261  "
      ]
     },
     "execution_count": 36,
     "metadata": {},
     "output_type": "execute_result"
    }
   ],
   "source": [
    "arr6 = np.random.rand(10,10)\n",
    "df2 = pd.DataFrame(arr6)\n",
    "df2"
   ]
  },
  {
   "cell_type": "code",
   "execution_count": 37,
   "id": "f871ea7a",
   "metadata": {},
   "outputs": [
    {
     "data": {
      "text/plain": [
       "array([[0.19781391, 0.61678897, 0.34843237, 0.99168732, 0.02146629,\n",
       "        0.79310491, 0.65880048, 0.80426217, 0.09224626, 0.67107359],\n",
       "       [0.44616887, 0.4646247 , 0.51563228, 0.95819309, 0.3459687 ,\n",
       "        0.83693783, 0.47489432, 0.14218851, 0.53277777, 0.04866222],\n",
       "       [0.47561512, 0.88872616, 0.66677861, 0.94735887, 0.06877374,\n",
       "        0.78042894, 0.40498916, 0.81071619, 0.74982355, 0.07788967],\n",
       "       [0.97514875, 0.27631434, 0.22973049, 0.75018991, 0.84349621,\n",
       "        0.05471206, 0.58130395, 0.06585086, 0.78039488, 0.18877402],\n",
       "       [0.40383622, 0.48170322, 0.06308042, 0.78997768, 0.44396501,\n",
       "        0.7866282 , 0.50959021, 0.83989663, 0.64832558, 0.16370353],\n",
       "       [0.41867819, 0.11882317, 0.45795563, 0.8853806 , 0.50079805,\n",
       "        0.05370413, 0.99376904, 0.46389483, 0.05092888, 0.67432027],\n",
       "       [0.11045133, 0.75856403, 0.62380277, 0.72803383, 0.40264448,\n",
       "        0.83618524, 0.10510658, 0.20113765, 0.27744725, 0.49127112],\n",
       "       [0.4646626 , 0.61298639, 0.99021087, 0.54503602, 0.1587195 ,\n",
       "        0.53531291, 0.37534645, 0.50226149, 0.58187944, 0.59174908],\n",
       "       [0.79911117, 0.9582768 , 0.3580411 , 0.28801913, 0.01206972,\n",
       "        0.94451193, 0.39885432, 0.11441789, 0.4880693 , 0.42291536],\n",
       "       [0.03573585, 0.13052492, 0.05747173, 0.58949261, 0.14854432,\n",
       "        0.60000017, 0.92909919, 0.07858696, 0.64096282, 0.65326077]])"
      ]
     },
     "execution_count": 37,
     "metadata": {},
     "output_type": "execute_result"
    }
   ],
   "source": [
    "arr7 = df2.to_numpy()\n",
    "arr7"
   ]
  },
  {
   "cell_type": "markdown",
   "id": "9df5bef6",
   "metadata": {},
   "source": [
    "Use Matplotlib to visualize a simple dataset created with NumPy (e.g., a line graph of random numbers)."
   ]
  },
  {
   "cell_type": "code",
   "execution_count": 42,
   "id": "4ab89e1a",
   "metadata": {},
   "outputs": [],
   "source": [
    "import matplotlib.pyplot as plt"
   ]
  },
  {
   "cell_type": "code",
   "execution_count": 44,
   "id": "e92664c6",
   "metadata": {},
   "outputs": [
    {
     "data": {
      "text/plain": [
       "<Figure size 720x720 with 0 Axes>"
      ]
     },
     "metadata": {},
     "output_type": "display_data"
    },
    {
     "data": {
      "image/png": "[encoded data removed]",
      "text/plain": [
       "<Figure size 432x288 with 1 Axes>"
      ]
     },
     "metadata": {
      "needs_background": "light"
     },
     "output_type": "display_data"
    }
   ],
   "source": [
    "plt.figure(figsize=(10, 10))\n",
    "df2.plot(title=\"Line Graph of Random Numbers\", grid=True)\n",
    "plt.xlabel(\"Index\")\n",
    "plt.ylabel(\"Value\")\n",
    "plt.legend(loc='upper right')\n",
    "plt.show()"
   ]
  },
  {
   "cell_type": "code",
   "execution_count": null,
   "id": "a42b3cee",
   "metadata": {},
   "outputs": [],
   "source": []
  }
 ],
 "metadata": {
  "kernelspec": {
   "display_name": "Python 3 (ipykernel)",
   "language": "python",
   "name": "python3"
  },
  "language_info": {
   "codemirror_mode": {
    "name": "ipython",
    "version": 3
   },
   "file_extension": ".py",
   "mimetype": "text/x-python",
   "name": "python",
   "nbconvert_exporter": "python",
   "pygments_lexer": "ipython3",
   "version": "3.9.12"
  }
 },
 "nbformat": 4,
 "nbformat_minor": 5
}
