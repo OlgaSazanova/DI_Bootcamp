{
 "cells": [
  {
   "cell_type": "markdown",
   "id": "533b3b8e",
   "metadata": {},
   "source": [
    "Data-Driven Astronomy (DDA) is the production of astronomical knowledge based on archival data sets. DDA is similar to industrial data science in that the data sets are not taken with the experiment in mind, but rather are a byproduct of other processes or investigations.  "
   ]
  },
  {
   "cell_type": "markdown",
   "id": "74083840",
   "metadata": {},
   "source": [
    "Astronomy generates an enormous amount of data that cannot be comprehensively analyzed by traditional methods. Telescopes like the Hubble Space Telescope and the Large Synoptic Survey Telescope produce petabytes of data every year."
   ]
  },
  {
   "cell_type": "markdown",
   "id": "6b8b68a1",
   "metadata": {},
   "source": [
    "Python is a great language for science, and specifically for astronomy. The various packages such as NumPy, SciPy, Scikit-Image and Astropy (to name but a few) are all a great testament to the suitability of Python for astronomy, and there are plenty of use cases."
   ]
  },
  {
   "cell_type": "markdown",
   "id": "2e6c452d",
   "metadata": {},
   "source": [
    "For example, this new article talks about how scientists used data from the James Webb Space Telescope and made new discoveries"
   ]
  },
  {
   "cell_type": "markdown",
   "id": "b8d05e92",
   "metadata": {},
   "source": [
    "An international research group utilized the James Webb Space Telescope to witness the dramatic interaction between a quasar inside the PJ308–21 system and two massive satellite galaxies in the distant universe\n",
    "\n",
    "This research has revealed significant details about galaxy formation, the mass and growth of supermassive black holes, and the chemical properties of these celestial bodies, marking a major step in understanding cosmic history.\n",
    "\n",
    "A global team led by the Italian National Institute for Astrophysics (INAF) and comprising 34 research institutes and universities worldwide utilized the Near-Infrared Spectrograph (NIRSpec) on board the James Webb Space Telescope (JWST) to witness the dramatic interaction between a quasar inside the PJ308–21 system and two massive satellite galaxies in the distant universe. The observations, conducted in September 2022, unveiled unprecedented and awe-inspiring details, providing new insights into the growth of galaxies in the early universe. The results were presented during the 2024 European Astronomical Society (EAS) meeting in Padua (Italy) and published on July 5 in Astronomy & Astrophysics.\n",
    "\n",
    "Unveiling the Quasar and Galaxy Dynamics\n",
    "Observations of this quasar (already described by the same authors in another study published last May), one of the first studied with NIRSpec when the universe was less than a billion years old (redshift z = 6.2342), have revealed data of sensational quality: the instrument “captured” the quasar’s spectrum with an uncertainty of less than 1% per pixel. The host galaxy of PJ308–21 shows high metallicity and photoionization conditions typical of an active galactic nucleus (AGN), whereas one of the satellite galaxies exhibits low metallicity (which refers to the abundance of chemical elements heavier than hydrogen and helium) and photoionization induced by star formation; a higher metallicity characterizes the second satellite galaxy, which is partially photoionized by the quasar.\n",
    "\n",
    "Emission of Hydrogen and Oxygen in the PJ308-21 System\n",
    "Map of the line emission of hydrogen (in red and blue) and oxygen (in green) in the PJ308-21 system, shown after masking the light from the central quasar (“QSO”). The different colors of the quasar’s host galaxy and companion galaxies in this map reveal the physical properties of the gas within them. Credit: Decarli/INAF/A&A 2024\n",
    "\n",
    "Insights Into Cosmic Evolution\n",
    "The discovery has enabled astronomers to determine the mass of the supermassive black hole at the center of the system (about 2 billion solar masses). It also confirmed that both the quasar and the surrounding galaxies are highly evolved in mass and metal enrichment, and in constant growth. This has profound implications for our understanding of cosmic history and galaxies’ chemical evolution, highlighting this research’s transformative impact.\n",
    "\n",
    "Technical Advancements in Space Observations\n",
    "Roberto Decarli, a researcher at INAF in Bologna and first author of the article, explains: “Our study reveals that both the black holes at the center of high-redshift quasars and the galaxies that host them undergo extremely efficient and tumultuous growth already in the first billion years of cosmic history, aided by the rich galactic environment in which these sources form.”\n",
    "\n",
    "The data were obtained in September 2022 as part of Program 1554, one of the nine Italian-led projects of the first observation cycle of JWST. Decarli leads this program to observe the merger between the galaxy hosting the quasar (PJ308-21) and two of its satellite galaxies."
   ]
  },
  {
   "cell_type": "code",
   "execution_count": null,
   "id": "7f28219d",
   "metadata": {},
   "outputs": [],
   "source": []
  }
 ],
 "metadata": {
  "kernelspec": {
   "display_name": "Python 3 (ipykernel)",
   "language": "python",
   "name": "python3"
  },
  "language_info": {
   "codemirror_mode": {
    "name": "ipython",
    "version": 3
   },
   "file_extension": ".py",
   "mimetype": "text/x-python",
   "name": "python",
   "nbconvert_exporter": "python",
   "pygments_lexer": "ipython3",
   "version": "3.9.12"
  }
 },
 "nbformat": 4,
 "nbformat_minor": 5
}
