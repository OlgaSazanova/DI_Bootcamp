{
 "cells": [
  {
   "cell_type": "markdown",
   "metadata": {
    "colab": {
     "base_uri": "https://localhost:8080/"
    },
    "id": "s7p0fizhkkpF",
    "outputId": "39b525b4-3d96-45c7-e0f7-2d2f81a8fa05"
   },
   "source": [
    "\n",
    "# IMPORTANT: RUN THIS CELL IN ORDER TO IMPORT YOUR KAGGLE DATA SOURCES\n",
    "# TO THE CORRECT LOCATION (/kaggle/input) IN YOUR NOTEBOOK,\n",
    "# THEN FEEL FREE TO DELETE THIS CELL.\n",
    "# NOTE: THIS NOTEBOOK ENVIRONMENT DIFFERS FROM KAGGLE'S PYTHON\n",
    "# ENVIRONMENT SO THERE MAY BE MISSING LIBRARIES USED BY YOUR\n",
    "# NOTEBOOK.\n",
    "\n",
    "import os\n",
    "import sys\n",
    "from tempfile import NamedTemporaryFile\n",
    "from urllib.request import urlopen\n",
    "from urllib.parse import unquote, urlparse\n",
    "from urllib.error import HTTPError\n",
    "from zipfile import ZipFile\n",
    "import tarfile\n",
    "import shutil\n",
    "\n",
    "CHUNK_SIZE = 40960\n",
    "DATA_SOURCE_MAPPING = 'ab-test-data:https%3A%2F%2Fstorage.googleapis.com%2Fkaggle-data-sets%2F2479030%2F4213024%2Fbundle%2Farchive.zip%3FX-Goog-Algorithm%3DGOOG4-RSA-SHA256%26X-Goog-Credential%3Dgcp-kaggle-com%2540kaggle-161607.iam.gserviceaccount.com%252F20240330%252Fauto%252Fstorage%252Fgoog4_request%26X-Goog-Date%3D20240330T225425Z%26X-Goog-Expires%3D259200%26X-Goog-SignedHeaders%3Dhost%26X-Goog-Signature%3D5f0b86438c0438cdc8ee57c072f48e97fdd4d00520b3ba0f962fb3a7a3578c8f1e855972d2ca87b7dd961d5a62208d7b1407eeb74c7d2a2ed84bcaf1e412e953dc50c86a235fb926ad19af56a7c16ee4a06171c7c33d131b9a2ad6235532a9b454c3f278b72fbd7178fdddaf2e591292c477c9e2bd0a8483b31158c306207a768d97e67bb867139040d8978221a23dd793dd104cc3d85f2e09a7742959d6985e9a7df62e3cc561e1752eac2ec707517e5ec8ad98baaee327e8c3eec01b414d8202bf6ea940cbab62cce4dfef5bf0bc262976b2d3f150eee8835f58f7306037ccc81c48189acb74cae0f45ecab679039f649b7819e1e1820d1f67937886264707'\n",
    "\n",
    "KAGGLE_INPUT_PATH='/kaggle/input'\n",
    "KAGGLE_WORKING_PATH='/kaggle/working'\n",
    "KAGGLE_SYMLINK='kaggle'\n",
    "\n",
    "!umount /kaggle/input/ 2> /dev/null\n",
    "shutil.rmtree('/kaggle/input', ignore_errors=True)\n",
    "os.makedirs(KAGGLE_INPUT_PATH, 0o777, exist_ok=True)\n",
    "os.makedirs(KAGGLE_WORKING_PATH, 0o777, exist_ok=True)\n",
    "\n",
    "try:\n",
    "  os.symlink(KAGGLE_INPUT_PATH, os.path.join(\"..\", 'input'), target_is_directory=True)\n",
    "except FileExistsError:\n",
    "  pass\n",
    "try:\n",
    "  os.symlink(KAGGLE_WORKING_PATH, os.path.join(\"..\", 'working'), target_is_directory=True)\n",
    "except FileExistsError:\n",
    "  pass\n",
    "\n",
    "for data_source_mapping in DATA_SOURCE_MAPPING.split(','):\n",
    "    directory, download_url_encoded = data_source_mapping.split(':')\n",
    "    download_url = unquote(download_url_encoded)\n",
    "    filename = urlparse(download_url).path\n",
    "    destination_path = os.path.join(KAGGLE_INPUT_PATH, directory)\n",
    "    try:\n",
    "        with urlopen(download_url) as fileres, NamedTemporaryFile() as tfile:\n",
    "            total_length = fileres.headers['content-length']\n",
    "            print(f'Downloading {directory}, {total_length} bytes compressed')\n",
    "            dl = 0\n",
    "            data = fileres.read(CHUNK_SIZE)\n",
    "            while len(data) > 0:\n",
    "                dl += len(data)\n",
    "                tfile.write(data)\n",
    "                done = int(50 * dl / int(total_length))\n",
    "                sys.stdout.write(f\"\\r[{'=' * done}{' ' * (50-done)}] {dl} bytes downloaded\")\n",
    "                sys.stdout.flush()\n",
    "                data = fileres.read(CHUNK_SIZE)\n",
    "            if filename.endswith('.zip'):\n",
    "              with ZipFile(tfile) as zfile:\n",
    "                zfile.extractall(destination_path)\n",
    "            else:\n",
    "              with tarfile.open(tfile.name) as tarfile:\n",
    "                tarfile.extractall(destination_path)\n",
    "            print(f'\\nDownloaded and uncompressed: {directory}')\n",
    "    except HTTPError as e:\n",
    "        print(f'Failed to load (likely expired) {download_url} to path {destination_path}')\n",
    "        continue\n",
    "    except OSError as e:\n",
    "        print(f'Failed to load {download_url} to path {destination_path}')\n",
    "        continue\n",
    "\n",
    "print('Data source import complete.')\n"
   ]
  },
  {
   "cell_type": "markdown",
   "metadata": {
    "id": "DeHt0ZK0kkpI"
   },
   "source": [
    "The AB test is a randomized experiment that is used by most large companies to evaluate the launch of new functionality. Various difficulties may arise in the analysis and conduct of the experiment. Several typical problematic cases from real life are given in this dataset and analysis."
   ]
  },
  {
   "cell_type": "markdown",
   "metadata": {
    "id": "Zm0ogtm1kkpI"
   },
   "source": [
    "### Content\n",
    "1. [Loading and processing data](#Loading)\n",
    "2. [Statistical Analysis](#Statistical)\n",
    "3. [Conclusions](#Conclusions)"
   ]
  },
  {
   "cell_type": "markdown",
   "metadata": {
    "id": "bn40N7ilkkpJ"
   },
   "source": [
    "### Loading and processing data <a name=\"Loading\"/>"
   ]
  },
  {
   "cell_type": "markdown",
   "metadata": {
    "id": "fh03NWZxkkpJ"
   },
   "source": [
    "Let's import the necessary libraries and load the data"
   ]
  },
  {
   "cell_type": "code",
   "execution_count": 6,
   "metadata": {
    "id": "jKi9SDP2kkpJ"
   },
   "outputs": [],
   "source": [
    "import numpy as np\n",
    "import pandas as pd\n",
    "from scipy.stats import mannwhitneyu\n",
    "from scipy.stats import ttest_ind\n",
    "from scipy.stats import norm\n",
    "import matplotlib.pyplot as plt\n",
    "import seaborn as sns\n",
    "from tqdm.auto import tqdm\n",
    "import seaborn as sns\n",
    "from scipy.stats import pearsonr\n",
    "from scipy.stats import shapiro"
   ]
  },
  {
   "cell_type": "code",
   "execution_count": 7,
   "metadata": {
    "colab": {
     "base_uri": "https://localhost:8080/",
     "height": 316
    },
    "id": "5CAgSuFlkkpJ",
    "outputId": "8bc4630a-635d-485d-81ae-b285a55062f5"
   },
   "outputs": [],
   "source": [
    "path = 'AB_Test_Results.csv'\n",
    "df = pd.read_csv(path)"
   ]
  },
  {
   "cell_type": "code",
   "execution_count": 8,
   "metadata": {
    "id": "1nvLy1dIkkpK",
    "scrolled": true
   },
   "outputs": [
    {
     "data": {
      "text/html": [
       "<div>\n",
       "<style scoped>\n",
       "    .dataframe tbody tr th:only-of-type {\n",
       "        vertical-align: middle;\n",
       "    }\n",
       "\n",
       "    .dataframe tbody tr th {\n",
       "        vertical-align: top;\n",
       "    }\n",
       "\n",
       "    .dataframe thead th {\n",
       "        text-align: right;\n",
       "    }\n",
       "</style>\n",
       "<table border=\"1\" class=\"dataframe\">\n",
       "  <thead>\n",
       "    <tr style=\"text-align: right;\">\n",
       "      <th></th>\n",
       "      <th>USER_ID</th>\n",
       "      <th>VARIANT_NAME</th>\n",
       "      <th>REVENUE</th>\n",
       "    </tr>\n",
       "  </thead>\n",
       "  <tbody>\n",
       "    <tr>\n",
       "      <th>0</th>\n",
       "      <td>737</td>\n",
       "      <td>variant</td>\n",
       "      <td>0.0</td>\n",
       "    </tr>\n",
       "    <tr>\n",
       "      <th>1</th>\n",
       "      <td>2423</td>\n",
       "      <td>control</td>\n",
       "      <td>0.0</td>\n",
       "    </tr>\n",
       "    <tr>\n",
       "      <th>2</th>\n",
       "      <td>9411</td>\n",
       "      <td>control</td>\n",
       "      <td>0.0</td>\n",
       "    </tr>\n",
       "    <tr>\n",
       "      <th>3</th>\n",
       "      <td>7311</td>\n",
       "      <td>control</td>\n",
       "      <td>0.0</td>\n",
       "    </tr>\n",
       "    <tr>\n",
       "      <th>4</th>\n",
       "      <td>6174</td>\n",
       "      <td>variant</td>\n",
       "      <td>0.0</td>\n",
       "    </tr>\n",
       "  </tbody>\n",
       "</table>\n",
       "</div>"
      ],
      "text/plain": [
       "   USER_ID VARIANT_NAME  REVENUE\n",
       "0      737      variant      0.0\n",
       "1     2423      control      0.0\n",
       "2     9411      control      0.0\n",
       "3     7311      control      0.0\n",
       "4     6174      variant      0.0"
      ]
     },
     "execution_count": 8,
     "metadata": {},
     "output_type": "execute_result"
    }
   ],
   "source": [
    "df.head()"
   ]
  },
  {
   "cell_type": "code",
   "execution_count": 9,
   "metadata": {},
   "outputs": [
    {
     "name": "stdout",
     "output_type": "stream",
     "text": [
      "<class 'pandas.core.frame.DataFrame'>\n",
      "RangeIndex: 10000 entries, 0 to 9999\n",
      "Data columns (total 3 columns):\n",
      " #   Column        Non-Null Count  Dtype  \n",
      "---  ------        --------------  -----  \n",
      " 0   USER_ID       10000 non-null  int64  \n",
      " 1   VARIANT_NAME  10000 non-null  object \n",
      " 2   REVENUE       10000 non-null  float64\n",
      "dtypes: float64(1), int64(1), object(1)\n",
      "memory usage: 234.5+ KB\n"
     ]
    }
   ],
   "source": [
    "df.info()"
   ]
  },
  {
   "cell_type": "code",
   "execution_count": 10,
   "metadata": {},
   "outputs": [
    {
     "data": {
      "text/plain": [
       "USER_ID         6324\n",
       "VARIANT_NAME       2\n",
       "REVENUE          101\n",
       "dtype: int64"
      ]
     },
     "execution_count": 10,
     "metadata": {},
     "output_type": "execute_result"
    }
   ],
   "source": [
    "df.nunique()"
   ]
  },
  {
   "cell_type": "code",
   "execution_count": 11,
   "metadata": {
    "scrolled": true
   },
   "outputs": [
    {
     "data": {
      "text/html": [
       "<div>\n",
       "<style scoped>\n",
       "    .dataframe tbody tr th:only-of-type {\n",
       "        vertical-align: middle;\n",
       "    }\n",
       "\n",
       "    .dataframe tbody tr th {\n",
       "        vertical-align: top;\n",
       "    }\n",
       "\n",
       "    .dataframe thead th {\n",
       "        text-align: right;\n",
       "    }\n",
       "</style>\n",
       "<table border=\"1\" class=\"dataframe\">\n",
       "  <thead>\n",
       "    <tr style=\"text-align: right;\">\n",
       "      <th></th>\n",
       "      <th>USER_ID</th>\n",
       "      <th>REVENUE</th>\n",
       "    </tr>\n",
       "  </thead>\n",
       "  <tbody>\n",
       "    <tr>\n",
       "      <th>count</th>\n",
       "      <td>10000.000000</td>\n",
       "      <td>10000.000000</td>\n",
       "    </tr>\n",
       "    <tr>\n",
       "      <th>mean</th>\n",
       "      <td>4981.080200</td>\n",
       "      <td>0.099447</td>\n",
       "    </tr>\n",
       "    <tr>\n",
       "      <th>std</th>\n",
       "      <td>2890.590115</td>\n",
       "      <td>2.318529</td>\n",
       "    </tr>\n",
       "    <tr>\n",
       "      <th>min</th>\n",
       "      <td>2.000000</td>\n",
       "      <td>0.000000</td>\n",
       "    </tr>\n",
       "    <tr>\n",
       "      <th>25%</th>\n",
       "      <td>2468.750000</td>\n",
       "      <td>0.000000</td>\n",
       "    </tr>\n",
       "    <tr>\n",
       "      <th>50%</th>\n",
       "      <td>4962.000000</td>\n",
       "      <td>0.000000</td>\n",
       "    </tr>\n",
       "    <tr>\n",
       "      <th>75%</th>\n",
       "      <td>7511.500000</td>\n",
       "      <td>0.000000</td>\n",
       "    </tr>\n",
       "    <tr>\n",
       "      <th>max</th>\n",
       "      <td>10000.000000</td>\n",
       "      <td>196.010000</td>\n",
       "    </tr>\n",
       "  </tbody>\n",
       "</table>\n",
       "</div>"
      ],
      "text/plain": [
       "            USER_ID       REVENUE\n",
       "count  10000.000000  10000.000000\n",
       "mean    4981.080200      0.099447\n",
       "std     2890.590115      2.318529\n",
       "min        2.000000      0.000000\n",
       "25%     2468.750000      0.000000\n",
       "50%     4962.000000      0.000000\n",
       "75%     7511.500000      0.000000\n",
       "max    10000.000000    196.010000"
      ]
     },
     "execution_count": 11,
     "metadata": {},
     "output_type": "execute_result"
    }
   ],
   "source": [
    "df.describe()"
   ]
  },
  {
   "cell_type": "markdown",
   "metadata": {
    "id": "gvcmP9L5kkpL"
   },
   "source": [
    "Let's see if there are users who have two A/B test groups"
   ]
  },
  {
   "cell_type": "code",
   "execution_count": 13,
   "metadata": {
    "id": "sQfYwAcWkkpL"
   },
   "outputs": [
    {
     "data": {
      "text/plain": [
       "VARIANT_NAME\n",
       "1    4783\n",
       "2    1541\n",
       "Name: count, dtype: int64"
      ]
     },
     "execution_count": 13,
     "metadata": {},
     "output_type": "execute_result"
    }
   ],
   "source": [
    "# TODO : Look at the distribution of the number of unique groups for each user\n",
    "double_variant_count = df.groupby('USER_ID')['VARIANT_NAME'].nunique().value_counts()\n",
    "double_variant_count"
   ]
  },
  {
   "cell_type": "code",
   "execution_count": 14,
   "metadata": {
    "id": "X7D5HpjdkkpM",
    "scrolled": true
   },
   "outputs": [
    {
     "data": {
      "text/plain": [
       "VARIANT_NAME\n",
       "1    0.756325\n",
       "2    0.243675\n",
       "Name: count, dtype: float64"
      ]
     },
     "execution_count": 14,
     "metadata": {},
     "output_type": "execute_result"
    }
   ],
   "source": [
    "# TODO : Look at the distribution of the number of unique groups for each user in relative terms\n",
    "double_variant_count / double_variant_count.sum()"
   ]
  },
  {
   "cell_type": "code",
   "execution_count": 15,
   "metadata": {},
   "outputs": [
    {
     "name": "stdout",
     "output_type": "stream",
     "text": [
      "<class 'pandas.core.frame.DataFrame'>\n",
      "RangeIndex: 10000 entries, 0 to 9999\n",
      "Data columns (total 3 columns):\n",
      " #   Column        Non-Null Count  Dtype  \n",
      "---  ------        --------------  -----  \n",
      " 0   USER_ID       10000 non-null  int64  \n",
      " 1   VARIANT_NAME  10000 non-null  object \n",
      " 2   REVENUE       10000 non-null  float64\n",
      "dtypes: float64(1), int64(1), object(1)\n",
      "memory usage: 234.5+ KB\n"
     ]
    }
   ],
   "source": [
    "df.info()"
   ]
  },
  {
   "cell_type": "markdown",
   "metadata": {
    "id": "gyhapbJkkkpM"
   },
   "source": [
    "What can you observe ? Should we exclude these users ? Why ?"
   ]
  },
  {
   "cell_type": "markdown",
   "metadata": {},
   "source": [
    "We see that there are users who have two ab test groups and they re 24% . We need to exclude them, because otherwise the effect of changes in the experiment will be blurred"
   ]
  },
  {
   "cell_type": "code",
   "execution_count": 18,
   "metadata": {},
   "outputs": [
    {
     "data": {
      "text/plain": [
       "4783"
      ]
     },
     "execution_count": 18,
     "metadata": {},
     "output_type": "execute_result"
    }
   ],
   "source": [
    "df.groupby('USER_ID')['VARIANT_NAME'].nunique().value_counts().iloc[0]"
   ]
  },
  {
   "cell_type": "code",
   "execution_count": 19,
   "metadata": {
    "id": "MNRylCuikkpM"
   },
   "outputs": [
    {
     "name": "stdout",
     "output_type": "stream",
     "text": [
      "<class 'pandas.core.frame.DataFrame'>\n",
      "Index: 6070 entries, 0 to 9999\n",
      "Data columns (total 3 columns):\n",
      " #   Column        Non-Null Count  Dtype  \n",
      "---  ------        --------------  -----  \n",
      " 0   USER_ID       6070 non-null   int64  \n",
      " 1   VARIANT_NAME  6070 non-null   object \n",
      " 2   REVENUE       6070 non-null   float64\n",
      "dtypes: float64(1), int64(1), object(1)\n",
      "memory usage: 189.7+ KB\n"
     ]
    }
   ],
   "source": [
    "# TODO : users have 1 A/B test group ?\n",
    "single_variant_users = (df.groupby('USER_ID')['VARIANT_NAME'].nunique() == 1)\n",
    "\n",
    "# TODO : Take only these users\n",
    "single_variant_users = single_variant_users[single_variant_users]\n",
    "df2 = df[df['USER_ID'].isin(single_variant_users.index)]\n",
    "df2.info()"
   ]
  },
  {
   "cell_type": "code",
   "execution_count": 20,
   "metadata": {},
   "outputs": [
    {
     "data": {
      "text/plain": [
       "True"
      ]
     },
     "execution_count": 20,
     "metadata": {},
     "output_type": "execute_result"
    }
   ],
   "source": [
    "single_variant_users = (df.groupby('USER_ID')['VARIANT_NAME'].nunique() == 1)\n",
    "single_variant_users = single_variant_users[single_variant_users]\n",
    "\n",
    "df = df[df['USER_ID'].isin(single_variant_users.index)]\n",
    "df.groupby('USER_ID')['VARIANT_NAME'].nunique().value_counts().iloc[0] == double_variant_count.iloc[0]"
   ]
  },
  {
   "cell_type": "code",
   "execution_count": 21,
   "metadata": {
    "scrolled": true
   },
   "outputs": [
    {
     "data": {
      "text/html": [
       "<div>\n",
       "<style scoped>\n",
       "    .dataframe tbody tr th:only-of-type {\n",
       "        vertical-align: middle;\n",
       "    }\n",
       "\n",
       "    .dataframe tbody tr th {\n",
       "        vertical-align: top;\n",
       "    }\n",
       "\n",
       "    .dataframe thead th {\n",
       "        text-align: right;\n",
       "    }\n",
       "</style>\n",
       "<table border=\"1\" class=\"dataframe\">\n",
       "  <thead>\n",
       "    <tr style=\"text-align: right;\">\n",
       "      <th></th>\n",
       "      <th>USER_ID</th>\n",
       "      <th>VARIANT_NAME</th>\n",
       "      <th>REVENUE</th>\n",
       "    </tr>\n",
       "  </thead>\n",
       "  <tbody>\n",
       "    <tr>\n",
       "      <th>0</th>\n",
       "      <td>737</td>\n",
       "      <td>variant</td>\n",
       "      <td>0.0</td>\n",
       "    </tr>\n",
       "    <tr>\n",
       "      <th>4</th>\n",
       "      <td>6174</td>\n",
       "      <td>variant</td>\n",
       "      <td>0.0</td>\n",
       "    </tr>\n",
       "    <tr>\n",
       "      <th>5</th>\n",
       "      <td>2380</td>\n",
       "      <td>variant</td>\n",
       "      <td>0.0</td>\n",
       "    </tr>\n",
       "    <tr>\n",
       "      <th>7</th>\n",
       "      <td>9168</td>\n",
       "      <td>control</td>\n",
       "      <td>0.0</td>\n",
       "    </tr>\n",
       "    <tr>\n",
       "      <th>9</th>\n",
       "      <td>7548</td>\n",
       "      <td>control</td>\n",
       "      <td>0.0</td>\n",
       "    </tr>\n",
       "  </tbody>\n",
       "</table>\n",
       "</div>"
      ],
      "text/plain": [
       "   USER_ID VARIANT_NAME  REVENUE\n",
       "0      737      variant      0.0\n",
       "4     6174      variant      0.0\n",
       "5     2380      variant      0.0\n",
       "7     9168      control      0.0\n",
       "9     7548      control      0.0"
      ]
     },
     "execution_count": 21,
     "metadata": {},
     "output_type": "execute_result"
    }
   ],
   "source": [
    "df.head()"
   ]
  },
  {
   "cell_type": "code",
   "execution_count": 22,
   "metadata": {},
   "outputs": [
    {
     "data": {
      "text/plain": [
       "True"
      ]
     },
     "execution_count": 22,
     "metadata": {},
     "output_type": "execute_result"
    }
   ],
   "source": [
    "df.groupby('USER_ID')['VARIANT_NAME'].nunique().value_counts().iloc[0] == double_variant_count.iloc[0]"
   ]
  },
  {
   "cell_type": "code",
   "execution_count": 23,
   "metadata": {
    "id": "4XvAx6ZtkkpM",
    "scrolled": true
   },
   "outputs": [
    {
     "name": "stdout",
     "output_type": "stream",
     "text": [
      "<class 'pandas.core.frame.DataFrame'>\n",
      "Index: 3044 entries, 0 to 9996\n",
      "Data columns (total 3 columns):\n",
      " #   Column        Non-Null Count  Dtype  \n",
      "---  ------        --------------  -----  \n",
      " 0   USER_ID       3044 non-null   int64  \n",
      " 1   VARIANT_NAME  3044 non-null   object \n",
      " 2   REVENUE       3044 non-null   float64\n",
      "dtypes: float64(1), int64(1), object(1)\n",
      "memory usage: 95.1+ KB\n"
     ]
    }
   ],
   "source": [
    "# TODO : Leave only records with users with the 1st ab test group\n",
    "df_1 = df[df['VARIANT_NAME']== 'variant']\n",
    "# TODO : Check that the number of users matches what it was before the exception\n",
    "df_1.info()"
   ]
  },
  {
   "cell_type": "code",
   "execution_count": 24,
   "metadata": {},
   "outputs": [
    {
     "name": "stdout",
     "output_type": "stream",
     "text": [
      "<class 'pandas.core.frame.DataFrame'>\n",
      "Index: 3026 entries, 7 to 9999\n",
      "Data columns (total 3 columns):\n",
      " #   Column        Non-Null Count  Dtype  \n",
      "---  ------        --------------  -----  \n",
      " 0   USER_ID       3026 non-null   int64  \n",
      " 1   VARIANT_NAME  3026 non-null   object \n",
      " 2   REVENUE       3026 non-null   float64\n",
      "dtypes: float64(1), int64(1), object(1)\n",
      "memory usage: 94.6+ KB\n"
     ]
    }
   ],
   "source": [
    "df_2 = df[df['VARIANT_NAME']== 'control']\n",
    "# TODO : Check that the number of users matches what it was before the exception\n",
    "df_2.info()"
   ]
  },
  {
   "cell_type": "markdown",
   "metadata": {
    "id": "Vpvcse3pkkpM"
   },
   "source": [
    "Let's see how the data is distributed"
   ]
  },
  {
   "cell_type": "code",
   "execution_count": 26,
   "metadata": {
    "id": "EW1ZGmsukkpN"
   },
   "outputs": [
    {
     "data": {
      "image/png": "[encoded data removed]",
      "text/plain": [
       "<Figure size 640x480 with 1 Axes>"
      ]
     },
     "metadata": {},
     "output_type": "display_data"
    }
   ],
   "source": [
    "# TODO : Check how the data is distributed using a box plot\n",
    "import seaborn as sns\n",
    "import matplotlib.pyplot as plt\n",
    "\n",
    "# Assuming 'single_group_users' is the DataFrame with users in only one A/B test group\n",
    "sns.boxplot(x='VARIANT_NAME', y='REVENUE', data=df_1)\n",
    "\n",
    "# Set title and labels\n",
    "plt.title('Revenue Distribution by Variant Name for Users in One A/B Test Group')\n",
    "plt.xlabel('Variant Name')\n",
    "plt.ylabel('Revenue')\n",
    "\n",
    "# Show the plot\n",
    "plt.show()"
   ]
  },
  {
   "cell_type": "code",
   "execution_count": 27,
   "metadata": {},
   "outputs": [
    {
     "data": {
      "image/png": "[encoded data removed]",
      "text/plain": [
       "<Figure size 640x480 with 1 Axes>"
      ]
     },
     "metadata": {},
     "output_type": "display_data"
    }
   ],
   "source": [
    "sns.boxplot(x='VARIANT_NAME', y='REVENUE', data=df_2)\n",
    "\n",
    "# Set title and labels\n",
    "plt.title('Revenue Distribution by Variant Name for Users in One A/B Test Group')\n",
    "plt.xlabel('Variant Name')\n",
    "plt.ylabel('Revenue')\n",
    "\n",
    "# Show the plot\n",
    "plt.show()"
   ]
  },
  {
   "cell_type": "markdown",
   "metadata": {
    "id": "Hlp3psWykkpN"
   },
   "source": [
    "It can be seen that there is a strong outlier in the data - we will find it by sorting these revenue values in descending order"
   ]
  },
  {
   "cell_type": "code",
   "execution_count": 29,
   "metadata": {
    "id": "9O6xaJmOkkpN"
   },
   "outputs": [
    {
     "data": {
      "text/html": [
       "<div>\n",
       "<style scoped>\n",
       "    .dataframe tbody tr th:only-of-type {\n",
       "        vertical-align: middle;\n",
       "    }\n",
       "\n",
       "    .dataframe tbody tr th {\n",
       "        vertical-align: top;\n",
       "    }\n",
       "\n",
       "    .dataframe thead th {\n",
       "        text-align: right;\n",
       "    }\n",
       "</style>\n",
       "<table border=\"1\" class=\"dataframe\">\n",
       "  <thead>\n",
       "    <tr style=\"text-align: right;\">\n",
       "      <th></th>\n",
       "      <th>USER_ID</th>\n",
       "      <th>VARIANT_NAME</th>\n",
       "      <th>REVENUE</th>\n",
       "    </tr>\n",
       "  </thead>\n",
       "  <tbody>\n",
       "    <tr>\n",
       "      <th>1437</th>\n",
       "      <td>3342</td>\n",
       "      <td>control</td>\n",
       "      <td>196.01</td>\n",
       "    </tr>\n",
       "    <tr>\n",
       "      <th>8168</th>\n",
       "      <td>2166</td>\n",
       "      <td>control</td>\n",
       "      <td>29.32</td>\n",
       "    </tr>\n",
       "    <tr>\n",
       "      <th>6412</th>\n",
       "      <td>1053</td>\n",
       "      <td>control</td>\n",
       "      <td>20.07</td>\n",
       "    </tr>\n",
       "    <tr>\n",
       "      <th>5530</th>\n",
       "      <td>282</td>\n",
       "      <td>control</td>\n",
       "      <td>18.56</td>\n",
       "    </tr>\n",
       "    <tr>\n",
       "      <th>758</th>\n",
       "      <td>4445</td>\n",
       "      <td>control</td>\n",
       "      <td>17.05</td>\n",
       "    </tr>\n",
       "    <tr>\n",
       "      <th>...</th>\n",
       "      <td>...</td>\n",
       "      <td>...</td>\n",
       "      <td>...</td>\n",
       "    </tr>\n",
       "    <tr>\n",
       "      <th>3406</th>\n",
       "      <td>3636</td>\n",
       "      <td>control</td>\n",
       "      <td>0.00</td>\n",
       "    </tr>\n",
       "    <tr>\n",
       "      <th>3408</th>\n",
       "      <td>1782</td>\n",
       "      <td>control</td>\n",
       "      <td>0.00</td>\n",
       "    </tr>\n",
       "    <tr>\n",
       "      <th>3411</th>\n",
       "      <td>5292</td>\n",
       "      <td>control</td>\n",
       "      <td>0.00</td>\n",
       "    </tr>\n",
       "    <tr>\n",
       "      <th>3412</th>\n",
       "      <td>7694</td>\n",
       "      <td>control</td>\n",
       "      <td>0.00</td>\n",
       "    </tr>\n",
       "    <tr>\n",
       "      <th>9999</th>\n",
       "      <td>9468</td>\n",
       "      <td>control</td>\n",
       "      <td>0.00</td>\n",
       "    </tr>\n",
       "  </tbody>\n",
       "</table>\n",
       "<p>3026 rows × 3 columns</p>\n",
       "</div>"
      ],
      "text/plain": [
       "      USER_ID VARIANT_NAME  REVENUE\n",
       "1437     3342      control   196.01\n",
       "8168     2166      control    29.32\n",
       "6412     1053      control    20.07\n",
       "5530      282      control    18.56\n",
       "758      4445      control    17.05\n",
       "...       ...          ...      ...\n",
       "3406     3636      control     0.00\n",
       "3408     1782      control     0.00\n",
       "3411     5292      control     0.00\n",
       "3412     7694      control     0.00\n",
       "9999     9468      control     0.00\n",
       "\n",
       "[3026 rows x 3 columns]"
      ]
     },
     "execution_count": 29,
     "metadata": {},
     "output_type": "execute_result"
    }
   ],
   "source": [
    "# TODO : Sort these revenue values in descending order\n",
    "df_2.sort_values(by = 'REVENUE', ascending = False)"
   ]
  },
  {
   "cell_type": "code",
   "execution_count": 30,
   "metadata": {
    "id": "zzX8JJiIkkpN"
   },
   "outputs": [
    {
     "data": {
      "text/html": [
       "<div>\n",
       "<style scoped>\n",
       "    .dataframe tbody tr th:only-of-type {\n",
       "        vertical-align: middle;\n",
       "    }\n",
       "\n",
       "    .dataframe tbody tr th {\n",
       "        vertical-align: top;\n",
       "    }\n",
       "\n",
       "    .dataframe thead th {\n",
       "        text-align: right;\n",
       "    }\n",
       "</style>\n",
       "<table border=\"1\" class=\"dataframe\">\n",
       "  <thead>\n",
       "    <tr style=\"text-align: right;\">\n",
       "      <th></th>\n",
       "      <th>USER_ID</th>\n",
       "      <th>VARIANT_NAME</th>\n",
       "      <th>REVENUE</th>\n",
       "    </tr>\n",
       "  </thead>\n",
       "  <tbody>\n",
       "    <tr>\n",
       "      <th>1437</th>\n",
       "      <td>3342</td>\n",
       "      <td>control</td>\n",
       "      <td>196.01</td>\n",
       "    </tr>\n",
       "  </tbody>\n",
       "</table>\n",
       "</div>"
      ],
      "text/plain": [
       "      USER_ID VARIANT_NAME  REVENUE\n",
       "1437     3342      control   196.01"
      ]
     },
     "execution_count": 30,
     "metadata": {},
     "output_type": "execute_result"
    }
   ],
   "source": [
    "# TODO : See if user 3342 had other events with a strong outlier\n",
    "df_2[df_2['USER_ID']== 3342]"
   ]
  },
  {
   "cell_type": "markdown",
   "metadata": {
    "id": "rvfqeZW6kkpN"
   },
   "source": [
    "We see that there is only one outlier - in conditions of limited information, we will remove this entry and look at the distribution of data again"
   ]
  },
  {
   "cell_type": "code",
   "execution_count": 32,
   "metadata": {
    "id": "9VHXOhaVkkpO"
   },
   "outputs": [
    {
     "data": {
      "image/png": "[encoded data removed]",
      "text/plain": [
       "<Figure size 640x480 with 1 Axes>"
      ]
     },
     "metadata": {},
     "output_type": "display_data"
    }
   ],
   "source": [
    "# TODO : We see that there is only one outlier - in conditions of limited information, remove this entry and visualize the distribution of data again.\n",
    "df= df[df['USER_ID'] != 3342]\n",
    "sns.boxplot(x='VARIANT_NAME', y='REVENUE', data=df)\n",
    "\n",
    "# Set title and labels\n",
    "plt.title('Revenue Distribution by Variant Name for Users in One A/B Test Group')\n",
    "plt.xlabel('Variant Name')\n",
    "plt.ylabel('Revenue')\n",
    "\n",
    "# Show the plot\n",
    "plt.show()"
   ]
  },
  {
   "cell_type": "markdown",
   "metadata": {
    "id": "r8pN_6oekkpO"
   },
   "source": [
    "\n",
    "What can you say about the users and their purchases ?"
   ]
  },
  {
   "cell_type": "code",
   "execution_count": 34,
   "metadata": {
    "id": "VZ3v8TeekkpO"
   },
   "outputs": [
    {
     "data": {
      "text/plain": [
       "52"
      ]
     },
     "execution_count": 34,
     "metadata": {},
     "output_type": "execute_result"
    }
   ],
   "source": [
    "# TODO : Check if there are users who have records with zero and positive revenue\n",
    "#users_with_zero_revenue = df[df['REVENUE'] == 0]['USER_ID']\n",
    "\n",
    "# Users with positive revenue\n",
    "#users_with_positive_revenue = df[df['REVENUE'] > 0]['USER_ID']\n",
    "(df.loc[\n",
    "    (df['REVENUE'] == 0) & (df['USER_ID'].isin(df.loc[df['REVENUE'] > 0, 'USER_ID'].values)), \n",
    "    'USER_ID'\n",
    "]).count()"
   ]
  },
  {
   "cell_type": "markdown",
   "metadata": {
    "id": "u_G7PRphkkpO"
   },
   "source": [
    "Can a user have records with both zero and positive revenue ?\n",
    "  \n",
    "  Yes  \n",
    "  \n",
    "Let's make the assumption that the records are user visits to the service, and the experimental unit is users.\n"
   ]
  },
  {
   "cell_type": "code",
   "execution_count": 36,
   "metadata": {
    "id": "R5GdAtTXkkpP"
   },
   "outputs": [],
   "source": [
    "# TODO : Group the data for each user and sum the revenue for each to get one record per user\n",
    "df = df.groupby(by=['USER_ID', 'VARIANT_NAME']).sum().reset_index()"
   ]
  },
  {
   "cell_type": "code",
   "execution_count": 37,
   "metadata": {
    "id": "Q7H93ZwNkkpP",
    "scrolled": true
   },
   "outputs": [
    {
     "name": "stdout",
     "output_type": "stream",
     "text": [
      "<class 'pandas.core.frame.DataFrame'>\n",
      "RangeIndex: 4782 entries, 0 to 4781\n",
      "Data columns (total 3 columns):\n",
      " #   Column        Non-Null Count  Dtype  \n",
      "---  ------        --------------  -----  \n",
      " 0   USER_ID       4782 non-null   int64  \n",
      " 1   VARIANT_NAME  4782 non-null   object \n",
      " 2   REVENUE       4782 non-null   float64\n",
      "dtypes: float64(1), int64(1), object(1)\n",
      "memory usage: 112.2+ KB\n"
     ]
    }
   ],
   "source": [
    "# TODO : Visualize the resulting distribution of the data again.\n",
    "df.info()"
   ]
  },
  {
   "cell_type": "code",
   "execution_count": 38,
   "metadata": {},
   "outputs": [
    {
     "data": {
      "text/html": [
       "<div>\n",
       "<style scoped>\n",
       "    .dataframe tbody tr th:only-of-type {\n",
       "        vertical-align: middle;\n",
       "    }\n",
       "\n",
       "    .dataframe tbody tr th {\n",
       "        vertical-align: top;\n",
       "    }\n",
       "\n",
       "    .dataframe thead th {\n",
       "        text-align: right;\n",
       "    }\n",
       "</style>\n",
       "<table border=\"1\" class=\"dataframe\">\n",
       "  <thead>\n",
       "    <tr style=\"text-align: right;\">\n",
       "      <th></th>\n",
       "      <th>USER_ID</th>\n",
       "      <th>VARIANT_NAME</th>\n",
       "      <th>REVENUE</th>\n",
       "    </tr>\n",
       "  </thead>\n",
       "  <tbody>\n",
       "    <tr>\n",
       "      <th>0</th>\n",
       "      <td>2</td>\n",
       "      <td>control</td>\n",
       "      <td>0.0</td>\n",
       "    </tr>\n",
       "    <tr>\n",
       "      <th>1</th>\n",
       "      <td>4</td>\n",
       "      <td>variant</td>\n",
       "      <td>0.0</td>\n",
       "    </tr>\n",
       "    <tr>\n",
       "      <th>2</th>\n",
       "      <td>5</td>\n",
       "      <td>variant</td>\n",
       "      <td>0.0</td>\n",
       "    </tr>\n",
       "    <tr>\n",
       "      <th>3</th>\n",
       "      <td>6</td>\n",
       "      <td>variant</td>\n",
       "      <td>0.0</td>\n",
       "    </tr>\n",
       "    <tr>\n",
       "      <th>4</th>\n",
       "      <td>9</td>\n",
       "      <td>variant</td>\n",
       "      <td>0.0</td>\n",
       "    </tr>\n",
       "  </tbody>\n",
       "</table>\n",
       "</div>"
      ],
      "text/plain": [
       "   USER_ID VARIANT_NAME  REVENUE\n",
       "0        2      control      0.0\n",
       "1        4      variant      0.0\n",
       "2        5      variant      0.0\n",
       "3        6      variant      0.0\n",
       "4        9      variant      0.0"
      ]
     },
     "execution_count": 38,
     "metadata": {},
     "output_type": "execute_result"
    }
   ],
   "source": [
    "df.head()"
   ]
  },
  {
   "cell_type": "code",
   "execution_count": 39,
   "metadata": {},
   "outputs": [
    {
     "data": {
      "image/png": "[encoded data removed]",
      "text/plain": [
       "<Figure size 640x480 with 1 Axes>"
      ]
     },
     "metadata": {},
     "output_type": "display_data"
    }
   ],
   "source": [
    "sns.boxplot(x='VARIANT_NAME', y='REVENUE', data=df)\n",
    "\n",
    "# Set title and labels\n",
    "plt.title('Revenue Distribution by Variant Name for Users in One A/B Test Group')\n",
    "plt.xlabel('Variant Name')\n",
    "plt.ylabel('Revenue')\n",
    "\n",
    "# Show the plot\n",
    "plt.show()"
   ]
  },
  {
   "cell_type": "markdown",
   "metadata": {
    "id": "_NTyRweHkkpP"
   },
   "source": [
    "It should be noted that during the transformation, the quantiles in the test group increased\n",
    "\n",
    "It can be seen that in the test group, almost all quantile statistics, except for the minimum, are at a slightly lower level.\n",
    "\n",
    "Let's look at various statistics in the context of AB test groups for all users"
   ]
  },
  {
   "cell_type": "code",
   "execution_count": 41,
   "metadata": {
    "id": "9QF5FZTAkkpP"
   },
   "outputs": [
    {
     "data": {
      "text/html": [
       "<div>\n",
       "<style scoped>\n",
       "    .dataframe tbody tr th:only-of-type {\n",
       "        vertical-align: middle;\n",
       "    }\n",
       "\n",
       "    .dataframe tbody tr th {\n",
       "        vertical-align: top;\n",
       "    }\n",
       "\n",
       "    .dataframe thead tr th {\n",
       "        text-align: left;\n",
       "    }\n",
       "\n",
       "    .dataframe thead tr:last-of-type th {\n",
       "        text-align: right;\n",
       "    }\n",
       "</style>\n",
       "<table border=\"1\" class=\"dataframe\">\n",
       "  <thead>\n",
       "    <tr>\n",
       "      <th></th>\n",
       "      <th>USER_ID</th>\n",
       "      <th colspan=\"4\" halign=\"left\">REVENUE</th>\n",
       "    </tr>\n",
       "    <tr>\n",
       "      <th></th>\n",
       "      <th>nunique</th>\n",
       "      <th>sum</th>\n",
       "      <th>mean</th>\n",
       "      <th>median</th>\n",
       "      <th>count</th>\n",
       "    </tr>\n",
       "    <tr>\n",
       "      <th>VARIANT_NAME</th>\n",
       "      <th></th>\n",
       "      <th></th>\n",
       "      <th></th>\n",
       "      <th></th>\n",
       "      <th></th>\n",
       "    </tr>\n",
       "  </thead>\n",
       "  <tbody>\n",
       "    <tr>\n",
       "      <th>control</th>\n",
       "      <td>2389</td>\n",
       "      <td>274.55</td>\n",
       "      <td>0.114923</td>\n",
       "      <td>0.0</td>\n",
       "      <td>2389</td>\n",
       "    </tr>\n",
       "    <tr>\n",
       "      <th>variant</th>\n",
       "      <td>2393</td>\n",
       "      <td>179.32</td>\n",
       "      <td>0.074935</td>\n",
       "      <td>0.0</td>\n",
       "      <td>2393</td>\n",
       "    </tr>\n",
       "  </tbody>\n",
       "</table>\n",
       "</div>"
      ],
      "text/plain": [
       "             USER_ID REVENUE                       \n",
       "             nunique     sum      mean median count\n",
       "VARIANT_NAME                                       \n",
       "control         2389  274.55  0.114923    0.0  2389\n",
       "variant         2393  179.32  0.074935    0.0  2393"
      ]
     },
     "execution_count": 41,
     "metadata": {},
     "output_type": "execute_result"
    }
   ],
   "source": [
    "# TODO : get metrics by groups\n",
    "\n",
    "all_stat = df.groupby(by='VARIANT_NAME').agg({'USER_ID': 'nunique',\n",
    "                                               'REVENUE': ['sum', 'mean', 'median', 'count']})\n",
    "# TODO : create two additional metrics to see relative changes\n",
    "\n",
    "\n",
    "# TODO : add them to the rest of the metrics in a separate group\n",
    "all_stat"
   ]
  },
  {
   "cell_type": "markdown",
   "metadata": {
    "id": "-FEgWEXckkpP"
   },
   "source": [
    "What can you see in the test group about the total amount of revenue, the average check per user, and the number of orders per user slightly increased ?\n",
    "\n",
    "Let's also see how paying users behave :"
   ]
  },
  {
   "cell_type": "code",
   "execution_count": 43,
   "metadata": {},
   "outputs": [
    {
     "name": "stdout",
     "output_type": "stream",
     "text": [
      "<class 'pandas.core.frame.DataFrame'>\n",
      "RangeIndex: 4782 entries, 0 to 4781\n",
      "Data columns (total 3 columns):\n",
      " #   Column        Non-Null Count  Dtype  \n",
      "---  ------        --------------  -----  \n",
      " 0   USER_ID       4782 non-null   int64  \n",
      " 1   VARIANT_NAME  4782 non-null   object \n",
      " 2   REVENUE       4782 non-null   float64\n",
      "dtypes: float64(1), int64(1), object(1)\n",
      "memory usage: 112.2+ KB\n"
     ]
    }
   ],
   "source": [
    "df.info()"
   ]
  },
  {
   "cell_type": "code",
   "execution_count": 44,
   "metadata": {
    "id": "ZM1LQ1VrkkpQ"
   },
   "outputs": [
    {
     "data": {
      "text/html": [
       "<div>\n",
       "<style scoped>\n",
       "    .dataframe tbody tr th:only-of-type {\n",
       "        vertical-align: middle;\n",
       "    }\n",
       "\n",
       "    .dataframe tbody tr th {\n",
       "        vertical-align: top;\n",
       "    }\n",
       "\n",
       "    .dataframe thead tr th {\n",
       "        text-align: left;\n",
       "    }\n",
       "\n",
       "    .dataframe thead tr:last-of-type th {\n",
       "        text-align: right;\n",
       "    }\n",
       "</style>\n",
       "<table border=\"1\" class=\"dataframe\">\n",
       "  <thead>\n",
       "    <tr>\n",
       "      <th></th>\n",
       "      <th>USER_ID</th>\n",
       "      <th colspan=\"4\" halign=\"left\">REVENUE</th>\n",
       "    </tr>\n",
       "    <tr>\n",
       "      <th></th>\n",
       "      <th>nunique</th>\n",
       "      <th>sum</th>\n",
       "      <th>mean</th>\n",
       "      <th>median</th>\n",
       "      <th>count</th>\n",
       "    </tr>\n",
       "    <tr>\n",
       "      <th>VARIANT_NAME</th>\n",
       "      <th></th>\n",
       "      <th></th>\n",
       "      <th></th>\n",
       "      <th></th>\n",
       "      <th></th>\n",
       "    </tr>\n",
       "  </thead>\n",
       "  <tbody>\n",
       "    <tr>\n",
       "      <th>control</th>\n",
       "      <td>53</td>\n",
       "      <td>274.55</td>\n",
       "      <td>5.180189</td>\n",
       "      <td>2.99</td>\n",
       "      <td>53</td>\n",
       "    </tr>\n",
       "    <tr>\n",
       "      <th>variant</th>\n",
       "      <td>42</td>\n",
       "      <td>179.32</td>\n",
       "      <td>4.269524</td>\n",
       "      <td>2.97</td>\n",
       "      <td>42</td>\n",
       "    </tr>\n",
       "  </tbody>\n",
       "</table>\n",
       "</div>"
      ],
      "text/plain": [
       "             USER_ID REVENUE                       \n",
       "             nunique     sum      mean median count\n",
       "VARIANT_NAME                                       \n",
       "control           53  274.55  5.180189   2.99    53\n",
       "variant           42  179.32  4.269524   2.97    42"
      ]
     },
     "execution_count": 44,
     "metadata": {},
     "output_type": "execute_result"
    }
   ],
   "source": [
    "# TODO : get metrics by groups\n",
    "df_filtered = df[df['REVENUE'] > 0]\n",
    "\n",
    "\n",
    "all_stat2 = df_filtered.groupby(by='VARIANT_NAME').agg({'USER_ID': 'nunique',\n",
    "                                               'REVENUE': ['sum', 'mean', 'median', 'count']})\n",
    "\n",
    "\n",
    "all_stat2"
   ]
  },
  {
   "cell_type": "markdown",
   "metadata": {
    "id": "RozYt1eZkkpQ"
   },
   "source": [
    "Let's look at the distributions of all and only paying users"
   ]
  },
  {
   "cell_type": "code",
   "execution_count": 46,
   "metadata": {
    "id": "Xmm-HM-ZkkpQ"
   },
   "outputs": [
    {
     "name": "stderr",
     "output_type": "stream",
     "text": [
      "C:\\Users\\Olga_hp\\AppData\\Local\\Temp\\ipykernel_5392\\4101851425.py:3: UserWarning: \n",
      "\n",
      "`distplot` is a deprecated function and will be removed in seaborn v0.14.0.\n",
      "\n",
      "Please adapt your code to use either `displot` (a figure-level function with\n",
      "similar flexibility) or `histplot` (an axes-level function for histograms).\n",
      "\n",
      "For a guide to updating your code to use the new functions, please see\n",
      "https://gist.github.com/mwaskom/de44147ed2974457ad6372750bbe5751\n",
      "\n",
      "  sns.distplot(df.loc[df['VARIANT_NAME'] == 'control', 'REVENUE'], ax = axes[0], label='control')\n",
      "C:\\Users\\Olga_hp\\AppData\\Local\\Temp\\ipykernel_5392\\4101851425.py:4: UserWarning: \n",
      "\n",
      "`distplot` is a deprecated function and will be removed in seaborn v0.14.0.\n",
      "\n",
      "Please adapt your code to use either `displot` (a figure-level function with\n",
      "similar flexibility) or `histplot` (an axes-level function for histograms).\n",
      "\n",
      "For a guide to updating your code to use the new functions, please see\n",
      "https://gist.github.com/mwaskom/de44147ed2974457ad6372750bbe5751\n",
      "\n",
      "  sns.distplot(df.loc[df['VARIANT_NAME'] == 'variant', 'REVENUE'], ax = axes[0], label='variant')\n",
      "C:\\Users\\Olga_hp\\AppData\\Local\\Temp\\ipykernel_5392\\4101851425.py:8: UserWarning: \n",
      "\n",
      "`distplot` is a deprecated function and will be removed in seaborn v0.14.0.\n",
      "\n",
      "Please adapt your code to use either `displot` (a figure-level function with\n",
      "similar flexibility) or `histplot` (an axes-level function for histograms).\n",
      "\n",
      "For a guide to updating your code to use the new functions, please see\n",
      "https://gist.github.com/mwaskom/de44147ed2974457ad6372750bbe5751\n",
      "\n",
      "  sns.distplot(df.loc[(df['VARIANT_NAME'] == 'control') & (df['REVENUE'] > 0), 'REVENUE'], ax = axes[1], label='control' )\n",
      "C:\\Users\\Olga_hp\\AppData\\Local\\Temp\\ipykernel_5392\\4101851425.py:9: UserWarning: \n",
      "\n",
      "`distplot` is a deprecated function and will be removed in seaborn v0.14.0.\n",
      "\n",
      "Please adapt your code to use either `displot` (a figure-level function with\n",
      "similar flexibility) or `histplot` (an axes-level function for histograms).\n",
      "\n",
      "For a guide to updating your code to use the new functions, please see\n",
      "https://gist.github.com/mwaskom/de44147ed2974457ad6372750bbe5751\n",
      "\n",
      "  sns.distplot(df.loc[(df['VARIANT_NAME'] == 'variant') & (df['REVENUE'] > 0), 'REVENUE'], ax = axes[1], label='variant' )\n"
     ]
    },
    {
     "data": {
      "image/png": "[encoded data removed]",
      "text/plain": [
       "<Figure size 1000x800 with 2 Axes>"
      ]
     },
     "metadata": {},
     "output_type": "display_data"
    }
   ],
   "source": [
    "f, axes = plt.subplots(2, figsize=(10,8))\n",
    "# build graphs of distributions of all users\n",
    "sns.distplot(df.loc[df['VARIANT_NAME'] == 'control', 'REVENUE'], ax = axes[0], label='control')\n",
    "sns.distplot(df.loc[df['VARIANT_NAME'] == 'variant', 'REVENUE'], ax = axes[0], label='variant')\n",
    "axes[0].set_title('Distribution of revenue of all users')\n",
    "\n",
    "# build graphs of distributions of paying users\n",
    "sns.distplot(df.loc[(df['VARIANT_NAME'] == 'control') & (df['REVENUE'] > 0), 'REVENUE'], ax = axes[1], label='control' )\n",
    "sns.distplot(df.loc[(df['VARIANT_NAME'] == 'variant') & (df['REVENUE'] > 0), 'REVENUE'], ax = axes[1], label='variant' )\n",
    "axes[1].set_title('Paying user revenue distribution')\n",
    "plt.legend()\n",
    "plt.subplots_adjust(hspace = 0.3)"
   ]
  },
  {
   "cell_type": "markdown",
   "metadata": {
    "id": "5vwsQSeVkkpQ"
   },
   "source": [
    "### Statistical Analysis <a name=\"Statistical\"/>"
   ]
  },
  {
   "cell_type": "markdown",
   "metadata": {
    "id": "lJP78Hc_kkpQ"
   },
   "source": [
    "#### Checking if the distribution is normal"
   ]
  },
  {
   "cell_type": "markdown",
   "metadata": {
    "id": "BVRKdz3WkkpQ"
   },
   "source": [
    "Based on their previous graph, we see that the data is not normally distributed."
   ]
  },
  {
   "cell_type": "code",
   "execution_count": 50,
   "metadata": {
    "id": "je2NXscMkkpQ"
   },
   "outputs": [
    {
     "name": "stdout",
     "output_type": "stream",
     "text": [
      "Shapiro-Wilk Test Statistic: 0.7512773147130261\n",
      "P-Value: 4.129931913160037e-08\n",
      "The data is not normally distributed (reject H0)\n"
     ]
    }
   ],
   "source": [
    "# TODO : Use the Shapiro-Wilk criterion to confirm it\n",
    "\n",
    "from scipy import stats\n",
    "\n",
    "\n",
    "\n",
    "# Select the 'REVENUE' column for the test\n",
    "revenue_data_control = df.loc[(df['VARIANT_NAME'] == 'control') & (df['REVENUE'] > 0), 'REVENUE']\n",
    "\n",
    "# Perform the Shapiro-Wilk test\n",
    "statistic, p_value = stats.shapiro(revenue_data_control)\n",
    "\n",
    "# Display the test statistic and p-value\n",
    "print(f'Shapiro-Wilk Test Statistic: {statistic}')\n",
    "print(f'P-Value: {p_value}')\n",
    "\n",
    "# Interpretation of the result\n",
    "alpha = 0.05\n",
    "if p_value < alpha:\n",
    "    print('The data is not normally distributed (reject H0)')\n",
    "else:\n",
    "    print('The data is normally distributed (fail to reject H0)')\n"
   ]
  },
  {
   "cell_type": "code",
   "execution_count": 51,
   "metadata": {},
   "outputs": [
    {
     "name": "stdout",
     "output_type": "stream",
     "text": [
      "Shapiro-Wilk Test Statistic: 0.7135707895039944\n",
      "P-Value: 9.88901135571282e-08\n",
      "The data is not normally distributed (reject H0)\n"
     ]
    }
   ],
   "source": [
    "# Select the 'REVENUE' column for the test\n",
    "revenue_data_variant = df.loc[(df['VARIANT_NAME'] == 'variant') & (df['REVENUE'] > 0), 'REVENUE']\n",
    "\n",
    "# Perform the Shapiro-Wilk test\n",
    "statistic, p_value = stats.shapiro(revenue_data_variant)\n",
    "\n",
    "# Display the test statistic and p-value\n",
    "print(f'Shapiro-Wilk Test Statistic: {statistic}')\n",
    "print(f'P-Value: {p_value}')\n",
    "\n",
    "# Interpretation of the result\n",
    "alpha = 0.05\n",
    "if p_value < alpha:\n",
    "    print('The data is not normally distributed (reject H0)')\n",
    "else:\n",
    "    print('The data is normally distributed (fail to reject H0)')\n"
   ]
  },
  {
   "cell_type": "markdown",
   "metadata": {
    "id": "Pq-RbAERkkpR"
   },
   "source": [
    "Is the null hypothesis about the normal distribution of the data rejected ?"
   ]
  },
  {
   "cell_type": "markdown",
   "metadata": {},
   "source": [
    "The data is not normally distributed. The very small p-value suggests that the deviation from normality is significant, confirming that the data does not follow a normal distribution..  Since the p-value is much smaller than the typical significance level of 0.05, it indicates that there is strong evidence against the null hypothesis."
   ]
  },
  {
   "cell_type": "markdown",
   "metadata": {
    "id": "nYxHXTxpkkpR"
   },
   "source": [
    "#### Mann-Whitney test"
   ]
  },
  {
   "cell_type": "markdown",
   "metadata": {
    "id": "eGKBrlFnkkpR"
   },
   "source": [
    "Let's check the value of the statistics of the Mann-Whitney test. Some sources have a limitation of applicability in case of duplicate data. There are a lot of repetitions in our sample, and especially a lot of zero values, so in this case we need to be careful about this criterion."
   ]
  },
  {
   "cell_type": "code",
   "execution_count": 56,
   "metadata": {
    "id": "ftj_LlaZkkpR"
   },
   "outputs": [
    {
     "data": {
      "text/plain": [
       "REVENUE\n",
       "True     4687\n",
       "False      95\n",
       "Name: count, dtype: int64"
      ]
     },
     "execution_count": 56,
     "metadata": {},
     "output_type": "execute_result"
    }
   ],
   "source": [
    "(df['REVENUE'] == 0).value_counts()"
   ]
  },
  {
   "cell_type": "code",
   "execution_count": 57,
   "metadata": {
    "id": "liLsCl00kkpR"
   },
   "outputs": [
    {
     "name": "stdout",
     "output_type": "stream",
     "text": [
      "Mann-Whitney U Test Statistic: 2845109.0\n",
      "P-Value: 0.24799555106821947\n",
      "Fail to reject the null hypothesis: There is no significant difference between the two groups.\n"
     ]
    }
   ],
   "source": [
    "# TODO : Check on the data of all users the value of the statistics of the Mann-Whitney test\n",
    "revenue_A = df[df['VARIANT_NAME'] == 'variant']['REVENUE']\n",
    "revenue_B = df[df['VARIANT_NAME'] == 'control']['REVENUE']\n",
    "\n",
    "# Perform the Mann-Whitney U test\n",
    "statistic, p_value = stats.mannwhitneyu(revenue_A, revenue_B, alternative='two-sided')\n",
    "\n",
    "# Display the results\n",
    "print(f'Mann-Whitney U Test Statistic: {statistic}')\n",
    "print(f'P-Value: {p_value}')\n",
    "\n",
    "# Interpretation of the result\n",
    "alpha = 0.05\n",
    "if p_value < alpha:\n",
    "    print('Reject the null hypothesis: There is a significant difference between the two groups.')\n",
    "else:\n",
    "    print('Fail to reject the null hypothesis: There is no significant difference between the two groups.')"
   ]
  },
  {
   "cell_type": "code",
   "execution_count": 58,
   "metadata": {
    "id": "tCCcVEM4kkpS"
   },
   "outputs": [
    {
     "name": "stdout",
     "output_type": "stream",
     "text": [
      "Mann-Whitney U Test Statistic: 2845109.0\n",
      "P-Value: 0.24799555106821947\n",
      "Fail to reject the null hypothesis: There is no significant difference between the two groups.\n"
     ]
    }
   ],
   "source": [
    "# TODO : Check on the data of only the users that pay, the value of the statistics of the Mann-Whitney test\n",
    "# TODO : Check on the data of all users the value of the statistics of the Mann-Whitney test\n",
    "revenue_A_pay = df.loc[(df['VARIANT_NAME'] == 'variant') & (df['REVENUE'] > 0), 'REVENUE']\n",
    "revenue_B_pay = df.loc[(df['VARIANT_NAME'] == 'control') & (df['REVENUE'] > 0), 'REVENUE']\n",
    "\n",
    "# Perform the Mann-Whitney U test\n",
    "statistic, p_value = stats.mannwhitneyu(revenue_A, revenue_B, alternative='two-sided')\n",
    "\n",
    "# Display the results\n",
    "print(f'Mann-Whitney U Test Statistic: {statistic}')\n",
    "print(f'P-Value: {p_value}')\n",
    "\n",
    "# Interpretation of the result\n",
    "alpha = 0.05\n",
    "if p_value < alpha:\n",
    "    print('Reject the null hypothesis: There is a significant difference between the two groups.')\n",
    "else:\n",
    "    print('Fail to reject the null hypothesis: There is no significant difference between the two groups.')"
   ]
  },
  {
   "cell_type": "markdown",
   "metadata": {
    "execution": {
     "iopub.execute_input": "2022-09-16T17:49:10.365079Z",
     "iopub.status.busy": "2022-09-16T17:49:10.3638Z",
     "iopub.status.idle": "2022-09-16T17:49:10.369587Z",
     "shell.execute_reply": "2022-09-16T17:49:10.368719Z",
     "shell.execute_reply.started": "2022-09-16T17:49:10.365037Z"
    },
    "id": "XBp259a8kkpS"
   },
   "source": [
    "#### Bootstrap"
   ]
  },
  {
   "cell_type": "markdown",
   "metadata": {
    "id": "0xpO-CmekkpS"
   },
   "source": [
    "In order to get more complete information about the differences between the average values of the ab test groups, we will use bootstap.\n",
    "\n",
    "Let's create a function to get back samples and get a confidence interval, and then look at the sample statistics"
   ]
  },
  {
   "cell_type": "code",
   "execution_count": 61,
   "metadata": {
    "id": "3yLh1toVkkpS"
   },
   "outputs": [],
   "source": [
    "def get_bootstrap_samples(data, n_samples=1000):\n",
    "    indices = np.random.randint(0, len(data), (n_samples, len(data)))\n",
    "    samples = data[indices]\n",
    "    return samples\n",
    "\n",
    "def stat_intervals(stat, alpha=0.05):\n",
    "    boundaries = np.percentile(stat, [100 * alpha / 2., 100 * (1 - alpha / 2.)])\n",
    "    return boundaries"
   ]
  },
  {
   "cell_type": "code",
   "execution_count": 62,
   "metadata": {
    "id": "vAgJqb7lkkpS"
   },
   "outputs": [],
   "source": [
    "# TODO : Generate samples for all users"
   ]
  },
  {
   "cell_type": "code",
   "execution_count": 63,
   "metadata": {
    "id": "pwXNe9H4kkpS"
   },
   "outputs": [],
   "source": [
    "# TODO : Generate samples for only paying users"
   ]
  },
  {
   "cell_type": "markdown",
   "metadata": {
    "id": "7OsUPGxnkkpT"
   },
   "source": [
    "Let's look at the distribution of means in the ab test groups"
   ]
  },
  {
   "cell_type": "code",
   "execution_count": 65,
   "metadata": {
    "id": "CvNnX2ALkkpT"
   },
   "outputs": [
    {
     "ename": "NameError",
     "evalue": "name 'control' is not defined",
     "output_type": "error",
     "traceback": [
      "\u001b[1;31m---------------------------------------------------------------------------\u001b[0m",
      "\u001b[1;31mNameError\u001b[0m                                 Traceback (most recent call last)",
      "Cell \u001b[1;32mIn[65], line 3\u001b[0m\n\u001b[0;32m      1\u001b[0m f, ax \u001b[38;5;241m=\u001b[39m plt\u001b[38;5;241m.\u001b[39msubplots()\n\u001b[0;32m      2\u001b[0m \u001b[38;5;66;03m# plt.figure(figsize=(20,5))\u001b[39;00m\n\u001b[1;32m----> 3\u001b[0m sns\u001b[38;5;241m.\u001b[39mkdeplot(np\u001b[38;5;241m.\u001b[39mmean(control, axis\u001b[38;5;241m=\u001b[39m\u001b[38;5;241m1\u001b[39m), shade\u001b[38;5;241m=\u001b[39m\u001b[38;5;28;01mTrue\u001b[39;00m, label\u001b[38;5;241m=\u001b[39m\u001b[38;5;124m'\u001b[39m\u001b[38;5;124mcontrol\u001b[39m\u001b[38;5;124m'\u001b[39m)\n\u001b[0;32m      4\u001b[0m sns\u001b[38;5;241m.\u001b[39mkdeplot(np\u001b[38;5;241m.\u001b[39mmean(variant, axis\u001b[38;5;241m=\u001b[39m\u001b[38;5;241m1\u001b[39m), shade\u001b[38;5;241m=\u001b[39m\u001b[38;5;28;01mTrue\u001b[39;00m, label\u001b[38;5;241m=\u001b[39m\u001b[38;5;124m'\u001b[39m\u001b[38;5;124mvariant\u001b[39m\u001b[38;5;124m'\u001b[39m)\n\u001b[0;32m      5\u001b[0m plt\u001b[38;5;241m.\u001b[39mtitle(\u001b[38;5;124m'\u001b[39m\u001b[38;5;124mSample mean distribution for all users\u001b[39m\u001b[38;5;124m'\u001b[39m)\n",
      "\u001b[1;31mNameError\u001b[0m: name 'control' is not defined"
     ]
    },
    {
     "data": {
      "image/png": "[encoded data removed]",
      "text/plain": [
       "<Figure size 640x480 with 1 Axes>"
      ]
     },
     "metadata": {},
     "output_type": "display_data"
    }
   ],
   "source": [
    "f, ax = plt.subplots()\n",
    "# plt.figure(figsize=(20,5))\n",
    "sns.kdeplot(np.mean(control, axis=1), shade=True, label='control')\n",
    "sns.kdeplot(np.mean(variant, axis=1), shade=True, label='variant')\n",
    "plt.title('Sample mean distribution for all users')"
   ]
  },
  {
   "cell_type": "code",
   "execution_count": null,
   "metadata": {
    "id": "v4_qUms4kkpT"
   },
   "outputs": [],
   "source": [
    "f, ax = plt.subplots()\n",
    "# plt.figure(figsize=(20,5))\n",
    "sns.kdeplot(np.mean(control_paid, axis=1), shade=True, label='control')\n",
    "sns.kdeplot(np.mean(variant_paid, axis=1), shade=True, label='variant')\n",
    "plt.title('Sample mean distribution for paying users')"
   ]
  },
  {
   "cell_type": "markdown",
   "metadata": {
    "id": "8MXUz0CEkkpT"
   },
   "source": [
    "Do you see any difference ? What about the confidence intervals ? Conclude.\n",
    "\n",
    "Let's evaluate the difference between the groups: look at the distribution of the mean difference and build confidence intervals for it. To do this, we will create a function for visualization"
   ]
  },
  {
   "cell_type": "code",
   "execution_count": null,
   "metadata": {
    "id": "bBIz3jkCkkpT"
   },
   "outputs": [],
   "source": [
    "def plot_distribution_and_stat_intervals(variant, control, title, alpha=0.05):\n",
    "    \"\"\" Plot the distribution of the mean difference and return the confidence intervals \"\"\"\n",
    "    f, ax = plt.subplots()\n",
    "    # get data for coloring confidence intervals\n",
    "    points = sns.kdeplot(variant - control, shade=True).get_lines()[0].get_data()\n",
    "    x = points[0]\n",
    "    y = points[1]\n",
    "    ymin, ymax = plt.ylim()\n",
    "    # highlight the zero value and the bounds of the confidence interval\n",
    "    plt.vlines(0, 0, ymax, label='0', color='gray')\n",
    "    plt.vlines(stat_intervals(variant - control, alpha)[0], 0, ymax, linestyles=\"dashed\")\n",
    "    plt.vlines(stat_intervals(variant - control, alpha)[1], 0, ymax, linestyles=\"dashed\")\n",
    "    # color the confidence interval and zones outside it\n",
    "    plt.fill_between(x,y,\n",
    "                     where = (x >= stat_intervals(variant - control, alpha)[1]),\n",
    "                     color='gainsboro')\n",
    "    plt.fill_between(x,y,\n",
    "                     where = (x <= stat_intervals(variant - control, alpha)[0]),\n",
    "                     color='gainsboro')\n",
    "    plt.fill_between(x,y,\n",
    "                     where = ((x >= stat_intervals(variant - control, alpha)[0])\n",
    "                              & (x <= stat_intervals(variant - control, alpha)[1])),\n",
    "                     color='red',\n",
    "                     label = '95% confidence interval')\n",
    "    plt.title(f'Distribution of difference between means (variant - control) {title}; {100*(1-alpha)}% Confidence interval for difference of means: {stat_intervals(variant - control, alpha)}')\n",
    "    plt.legend(prop={'size':13})\n",
    "    # return confidence interval data\n",
    "    return stat_intervals(variant - control)"
   ]
  },
  {
   "cell_type": "markdown",
   "metadata": {
    "id": "ZIUmqXtHkkpT"
   },
   "source": [
    "Let's build a graph of the distribution of the difference in the means and get a confidence interval\n",
    "\n",
    "For all users"
   ]
  },
  {
   "cell_type": "code",
   "execution_count": null,
   "metadata": {
    "id": "eQq8UewNkkpT"
   },
   "outputs": [],
   "source": [
    "plot_distribution_and_stat_intervals(np.mean(variant, axis=1),\n",
    "                                     np.mean(control, axis=1),\n",
    "                                     title='all users')"
   ]
  },
  {
   "cell_type": "code",
   "execution_count": null,
   "metadata": {
    "id": "mOb8VkPAkkpT"
   },
   "outputs": [],
   "source": [
    "plot_distribution_and_stat_intervals(np.mean(variant_paid, axis=1),\n",
    "                                     np.mean(control_paid, axis=1),\n",
    "                                     title='paying users')"
   ]
  },
  {
   "cell_type": "markdown",
   "metadata": {
    "id": "5KFSGNjOkkpU"
   },
   "source": [
    "What can you observe ? Conclude about the statistical change in average revenue between A/B test groups.\n"
   ]
  }
 ],
 "metadata": {
  "colab": {
   "provenance": []
  },
  "kaggle": {
   "accelerator": "none",
   "dataSources": [
    {
     "datasetId": 2479030,
     "sourceId": 4213024,
     "sourceType": "datasetVersion"
    }
   ],
   "dockerImageVersionId": 30235,
   "isGpuEnabled": false,
   "isInternetEnabled": false,
   "language": "python",
   "sourceType": "notebook"
  },
  "kernelspec": {
   "display_name": "Python 3 (ipykernel)",
   "language": "python",
   "name": "python3"
  },
  "language_info": {
   "codemirror_mode": {
    "name": "ipython",
    "version": 3
   },
   "file_extension": ".py",
   "mimetype": "text/x-python",
   "name": "python",
   "nbconvert_exporter": "python",
   "pygments_lexer": "ipython3",
   "version": "3.12.4"
  }
 },
 "nbformat": 4,
 "nbformat_minor": 4
}
